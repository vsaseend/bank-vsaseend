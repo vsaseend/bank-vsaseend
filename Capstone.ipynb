{
 "cells": [
  {
   "cell_type": "code",
   "execution_count": 1,
   "metadata": {},
   "outputs": [
    {
     "name": "stderr",
     "output_type": "stream",
     "text": [
      "UsageError: Line magic function `%matplot` not found.\n"
     ]
    }
   ],
   "source": [
    "import os,re,sys\n",
    "import pandas as pd\n",
    "import numpy as np\n",
    "import seaborn as sns\n",
    "import matplotlib.pyplot as plt\n",
    "\n",
    "from sklearn.model_selection import train_test_split\n",
    "import xgboost\n",
    "from xgboost import XGBClassifier\n",
    "from sklearn.linear_model import LogisticRegression\n",
    "from sklearn.ensemble import RandomForestClassifier\n",
    "from sklearn.metrics import confusion_matrix, classification_report\n",
    "from sklearn.model_selection import cross_val_score\n",
    "from sklearn.metrics import roc_curve\n",
    "%matplot inline "
   ]
  },
  {
   "cell_type": "code",
   "execution_count": 2,
   "metadata": {},
   "outputs": [],
   "source": [
    "os.chdir(\"C:/Users/user/Desktop/Capstone\")\n"
   ]
  },
  {
   "cell_type": "code",
   "execution_count": 3,
   "metadata": {},
   "outputs": [
    {
     "name": "stderr",
     "output_type": "stream",
     "text": [
      "C:\\Users\\user\\Anaconda3\\lib\\site-packages\\ipykernel_launcher.py:1: FutureWarning: read_table is deprecated, use read_csv instead, passing sep='\\t'.\n",
      "  \"\"\"Entry point for launching an IPython kernel.\n"
     ]
    },
    {
     "name": "stdout",
     "output_type": "stream",
     "text": [
      "Wall time: 1min 3s\n"
     ]
    }
   ],
   "source": [
    "%time dataset = pd.read_table('XYZCorp_LendingDataa.txt', parse_dates=['issue_d'], low_memory=False)"
   ]
  },
  {
   "cell_type": "code",
   "execution_count": 4,
   "metadata": {},
   "outputs": [
    {
     "data": {
      "text/html": [
       "<div>\n",
       "<style scoped>\n",
       "    .dataframe tbody tr th:only-of-type {\n",
       "        vertical-align: middle;\n",
       "    }\n",
       "\n",
       "    .dataframe tbody tr th {\n",
       "        vertical-align: top;\n",
       "    }\n",
       "\n",
       "    .dataframe thead th {\n",
       "        text-align: right;\n",
       "    }\n",
       "</style>\n",
       "<table border=\"1\" class=\"dataframe\">\n",
       "  <thead>\n",
       "    <tr style=\"text-align: right;\">\n",
       "      <th></th>\n",
       "      <th>id</th>\n",
       "      <th>member_id</th>\n",
       "      <th>loan_amnt</th>\n",
       "      <th>funded_amnt</th>\n",
       "      <th>funded_amnt_inv</th>\n",
       "      <th>term</th>\n",
       "      <th>int_rate</th>\n",
       "      <th>installment</th>\n",
       "      <th>grade</th>\n",
       "      <th>sub_grade</th>\n",
       "      <th>...</th>\n",
       "      <th>il_util</th>\n",
       "      <th>open_rv_12m</th>\n",
       "      <th>open_rv_24m</th>\n",
       "      <th>max_bal_bc</th>\n",
       "      <th>all_util</th>\n",
       "      <th>total_rev_hi_lim</th>\n",
       "      <th>inq_fi</th>\n",
       "      <th>total_cu_tl</th>\n",
       "      <th>inq_last_12m</th>\n",
       "      <th>default_ind</th>\n",
       "    </tr>\n",
       "  </thead>\n",
       "  <tbody>\n",
       "    <tr>\n",
       "      <th>0</th>\n",
       "      <td>1077501</td>\n",
       "      <td>1296599</td>\n",
       "      <td>5000.0</td>\n",
       "      <td>5000.0</td>\n",
       "      <td>4975.0</td>\n",
       "      <td>36 months</td>\n",
       "      <td>10.65</td>\n",
       "      <td>162.87</td>\n",
       "      <td>B</td>\n",
       "      <td>B2</td>\n",
       "      <td>...</td>\n",
       "      <td>NaN</td>\n",
       "      <td>NaN</td>\n",
       "      <td>NaN</td>\n",
       "      <td>NaN</td>\n",
       "      <td>NaN</td>\n",
       "      <td>NaN</td>\n",
       "      <td>NaN</td>\n",
       "      <td>NaN</td>\n",
       "      <td>NaN</td>\n",
       "      <td>0</td>\n",
       "    </tr>\n",
       "    <tr>\n",
       "      <th>1</th>\n",
       "      <td>1077430</td>\n",
       "      <td>1314167</td>\n",
       "      <td>2500.0</td>\n",
       "      <td>2500.0</td>\n",
       "      <td>2500.0</td>\n",
       "      <td>60 months</td>\n",
       "      <td>15.27</td>\n",
       "      <td>59.83</td>\n",
       "      <td>C</td>\n",
       "      <td>C4</td>\n",
       "      <td>...</td>\n",
       "      <td>NaN</td>\n",
       "      <td>NaN</td>\n",
       "      <td>NaN</td>\n",
       "      <td>NaN</td>\n",
       "      <td>NaN</td>\n",
       "      <td>NaN</td>\n",
       "      <td>NaN</td>\n",
       "      <td>NaN</td>\n",
       "      <td>NaN</td>\n",
       "      <td>1</td>\n",
       "    </tr>\n",
       "    <tr>\n",
       "      <th>2</th>\n",
       "      <td>1077175</td>\n",
       "      <td>1313524</td>\n",
       "      <td>2400.0</td>\n",
       "      <td>2400.0</td>\n",
       "      <td>2400.0</td>\n",
       "      <td>36 months</td>\n",
       "      <td>15.96</td>\n",
       "      <td>84.33</td>\n",
       "      <td>C</td>\n",
       "      <td>C5</td>\n",
       "      <td>...</td>\n",
       "      <td>NaN</td>\n",
       "      <td>NaN</td>\n",
       "      <td>NaN</td>\n",
       "      <td>NaN</td>\n",
       "      <td>NaN</td>\n",
       "      <td>NaN</td>\n",
       "      <td>NaN</td>\n",
       "      <td>NaN</td>\n",
       "      <td>NaN</td>\n",
       "      <td>0</td>\n",
       "    </tr>\n",
       "    <tr>\n",
       "      <th>3</th>\n",
       "      <td>1076863</td>\n",
       "      <td>1277178</td>\n",
       "      <td>10000.0</td>\n",
       "      <td>10000.0</td>\n",
       "      <td>10000.0</td>\n",
       "      <td>36 months</td>\n",
       "      <td>13.49</td>\n",
       "      <td>339.31</td>\n",
       "      <td>C</td>\n",
       "      <td>C1</td>\n",
       "      <td>...</td>\n",
       "      <td>NaN</td>\n",
       "      <td>NaN</td>\n",
       "      <td>NaN</td>\n",
       "      <td>NaN</td>\n",
       "      <td>NaN</td>\n",
       "      <td>NaN</td>\n",
       "      <td>NaN</td>\n",
       "      <td>NaN</td>\n",
       "      <td>NaN</td>\n",
       "      <td>0</td>\n",
       "    </tr>\n",
       "    <tr>\n",
       "      <th>4</th>\n",
       "      <td>1075358</td>\n",
       "      <td>1311748</td>\n",
       "      <td>3000.0</td>\n",
       "      <td>3000.0</td>\n",
       "      <td>3000.0</td>\n",
       "      <td>60 months</td>\n",
       "      <td>12.69</td>\n",
       "      <td>67.79</td>\n",
       "      <td>B</td>\n",
       "      <td>B5</td>\n",
       "      <td>...</td>\n",
       "      <td>NaN</td>\n",
       "      <td>NaN</td>\n",
       "      <td>NaN</td>\n",
       "      <td>NaN</td>\n",
       "      <td>NaN</td>\n",
       "      <td>NaN</td>\n",
       "      <td>NaN</td>\n",
       "      <td>NaN</td>\n",
       "      <td>NaN</td>\n",
       "      <td>0</td>\n",
       "    </tr>\n",
       "  </tbody>\n",
       "</table>\n",
       "<p>5 rows × 73 columns</p>\n",
       "</div>"
      ],
      "text/plain": [
       "        id  member_id  loan_amnt  funded_amnt  funded_amnt_inv        term  \\\n",
       "0  1077501    1296599     5000.0       5000.0           4975.0   36 months   \n",
       "1  1077430    1314167     2500.0       2500.0           2500.0   60 months   \n",
       "2  1077175    1313524     2400.0       2400.0           2400.0   36 months   \n",
       "3  1076863    1277178    10000.0      10000.0          10000.0   36 months   \n",
       "4  1075358    1311748     3000.0       3000.0           3000.0   60 months   \n",
       "\n",
       "   int_rate  installment grade sub_grade  ... il_util open_rv_12m open_rv_24m  \\\n",
       "0     10.65       162.87     B        B2  ...     NaN         NaN         NaN   \n",
       "1     15.27        59.83     C        C4  ...     NaN         NaN         NaN   \n",
       "2     15.96        84.33     C        C5  ...     NaN         NaN         NaN   \n",
       "3     13.49       339.31     C        C1  ...     NaN         NaN         NaN   \n",
       "4     12.69        67.79     B        B5  ...     NaN         NaN         NaN   \n",
       "\n",
       "   max_bal_bc all_util total_rev_hi_lim inq_fi total_cu_tl inq_last_12m  \\\n",
       "0         NaN      NaN              NaN    NaN         NaN          NaN   \n",
       "1         NaN      NaN              NaN    NaN         NaN          NaN   \n",
       "2         NaN      NaN              NaN    NaN         NaN          NaN   \n",
       "3         NaN      NaN              NaN    NaN         NaN          NaN   \n",
       "4         NaN      NaN              NaN    NaN         NaN          NaN   \n",
       "\n",
       "  default_ind  \n",
       "0           0  \n",
       "1           1  \n",
       "2           0  \n",
       "3           0  \n",
       "4           0  \n",
       "\n",
       "[5 rows x 73 columns]"
      ]
     },
     "execution_count": 4,
     "metadata": {},
     "output_type": "execute_result"
    }
   ],
   "source": [
    "dataset.head()"
   ]
  },
  {
   "cell_type": "code",
   "execution_count": 5,
   "metadata": {},
   "outputs": [
    {
     "data": {
      "text/plain": [
       "(855969, 73)"
      ]
     },
     "execution_count": 5,
     "metadata": {},
     "output_type": "execute_result"
    }
   ],
   "source": [
    "dataset.shape"
   ]
  },
  {
   "cell_type": "code",
   "execution_count": 6,
   "metadata": {},
   "outputs": [
    {
     "data": {
      "text/plain": [
       "0    0.945714\n",
       "1    0.054286\n",
       "Name: default_ind, dtype: float64"
      ]
     },
     "execution_count": 6,
     "metadata": {},
     "output_type": "execute_result"
    }
   ],
   "source": [
    "dataset['default_ind'].value_counts()/len(dataset)"
   ]
  },
  {
   "cell_type": "code",
   "execution_count": 7,
   "metadata": {},
   "outputs": [
    {
     "data": {
      "text/plain": [
       "id                                  0\n",
       "member_id                           0\n",
       "loan_amnt                           0\n",
       "funded_amnt                         0\n",
       "funded_amnt_inv                     0\n",
       "term                                0\n",
       "int_rate                            0\n",
       "installment                         0\n",
       "grade                               0\n",
       "sub_grade                           0\n",
       "emp_title                       49443\n",
       "emp_length                      43061\n",
       "home_ownership                      0\n",
       "annual_inc                          0\n",
       "verification_status                 0\n",
       "issue_d                             0\n",
       "pymnt_plan                          0\n",
       "desc                           734157\n",
       "purpose                             0\n",
       "title                              33\n",
       "zip_code                            0\n",
       "addr_state                          0\n",
       "dti                                 0\n",
       "delinq_2yrs                         0\n",
       "earliest_cr_line                    0\n",
       "inq_last_6mths                      0\n",
       "mths_since_last_delinq         439812\n",
       "mths_since_last_record         724785\n",
       "open_acc                            0\n",
       "pub_rec                             0\n",
       "                                ...  \n",
       "last_pymnt_d                     8862\n",
       "last_pymnt_amnt                     0\n",
       "next_pymnt_d                   252971\n",
       "last_credit_pull_d                 50\n",
       "collections_12_mths_ex_med         56\n",
       "mths_since_last_major_derog    642830\n",
       "policy_code                         0\n",
       "application_type                    0\n",
       "annual_inc_joint               855527\n",
       "dti_joint                      855529\n",
       "verification_status_joint      855527\n",
       "acc_now_delinq                      0\n",
       "tot_coll_amt                    67313\n",
       "tot_cur_bal                     67313\n",
       "open_acc_6m                    842681\n",
       "open_il_6m                     842681\n",
       "open_il_12m                    842681\n",
       "open_il_24m                    842681\n",
       "mths_since_rcnt_il             843035\n",
       "total_bal_il                   842681\n",
       "il_util                        844360\n",
       "open_rv_12m                    842681\n",
       "open_rv_24m                    842681\n",
       "max_bal_bc                     842681\n",
       "all_util                       842681\n",
       "total_rev_hi_lim                67313\n",
       "inq_fi                         842681\n",
       "total_cu_tl                    842681\n",
       "inq_last_12m                   842681\n",
       "default_ind                         0\n",
       "Length: 73, dtype: int64"
      ]
     },
     "execution_count": 7,
     "metadata": {},
     "output_type": "execute_result"
    }
   ],
   "source": [
    "#checking missing value\n",
    "dataset.isnull().sum()\n"
   ]
  },
  {
   "cell_type": "code",
   "execution_count": 8,
   "metadata": {},
   "outputs": [
    {
     "data": {
      "text/html": [
       "<div>\n",
       "<style scoped>\n",
       "    .dataframe tbody tr th:only-of-type {\n",
       "        vertical-align: middle;\n",
       "    }\n",
       "\n",
       "    .dataframe tbody tr th {\n",
       "        vertical-align: top;\n",
       "    }\n",
       "\n",
       "    .dataframe thead th {\n",
       "        text-align: right;\n",
       "    }\n",
       "</style>\n",
       "<table border=\"1\" class=\"dataframe\">\n",
       "  <thead>\n",
       "    <tr style=\"text-align: right;\">\n",
       "      <th></th>\n",
       "      <th>id</th>\n",
       "      <th>member_id</th>\n",
       "      <th>loan_amnt</th>\n",
       "      <th>funded_amnt</th>\n",
       "      <th>funded_amnt_inv</th>\n",
       "      <th>term</th>\n",
       "      <th>int_rate</th>\n",
       "      <th>installment</th>\n",
       "      <th>grade</th>\n",
       "      <th>sub_grade</th>\n",
       "      <th>...</th>\n",
       "      <th>il_util</th>\n",
       "      <th>open_rv_12m</th>\n",
       "      <th>open_rv_24m</th>\n",
       "      <th>max_bal_bc</th>\n",
       "      <th>all_util</th>\n",
       "      <th>total_rev_hi_lim</th>\n",
       "      <th>inq_fi</th>\n",
       "      <th>total_cu_tl</th>\n",
       "      <th>inq_last_12m</th>\n",
       "      <th>default_ind</th>\n",
       "    </tr>\n",
       "  </thead>\n",
       "  <tbody>\n",
       "    <tr>\n",
       "      <th>Total</th>\n",
       "      <td>0</td>\n",
       "      <td>0</td>\n",
       "      <td>0</td>\n",
       "      <td>0</td>\n",
       "      <td>0</td>\n",
       "      <td>0</td>\n",
       "      <td>0</td>\n",
       "      <td>0</td>\n",
       "      <td>0</td>\n",
       "      <td>0</td>\n",
       "      <td>...</td>\n",
       "      <td>844360</td>\n",
       "      <td>842681</td>\n",
       "      <td>842681</td>\n",
       "      <td>842681</td>\n",
       "      <td>842681</td>\n",
       "      <td>67313</td>\n",
       "      <td>842681</td>\n",
       "      <td>842681</td>\n",
       "      <td>842681</td>\n",
       "      <td>0</td>\n",
       "    </tr>\n",
       "    <tr>\n",
       "      <th>Percent</th>\n",
       "      <td>0</td>\n",
       "      <td>0</td>\n",
       "      <td>0</td>\n",
       "      <td>0</td>\n",
       "      <td>0</td>\n",
       "      <td>0</td>\n",
       "      <td>0</td>\n",
       "      <td>0</td>\n",
       "      <td>0</td>\n",
       "      <td>0</td>\n",
       "      <td>...</td>\n",
       "      <td>98.6</td>\n",
       "      <td>98.4</td>\n",
       "      <td>98.4</td>\n",
       "      <td>98.4</td>\n",
       "      <td>98.4</td>\n",
       "      <td>7.9</td>\n",
       "      <td>98.4</td>\n",
       "      <td>98.4</td>\n",
       "      <td>98.4</td>\n",
       "      <td>0</td>\n",
       "    </tr>\n",
       "    <tr>\n",
       "      <th>Types</th>\n",
       "      <td>int64</td>\n",
       "      <td>int64</td>\n",
       "      <td>float64</td>\n",
       "      <td>float64</td>\n",
       "      <td>float64</td>\n",
       "      <td>object</td>\n",
       "      <td>float64</td>\n",
       "      <td>float64</td>\n",
       "      <td>object</td>\n",
       "      <td>object</td>\n",
       "      <td>...</td>\n",
       "      <td>float64</td>\n",
       "      <td>float64</td>\n",
       "      <td>float64</td>\n",
       "      <td>float64</td>\n",
       "      <td>float64</td>\n",
       "      <td>float64</td>\n",
       "      <td>float64</td>\n",
       "      <td>float64</td>\n",
       "      <td>float64</td>\n",
       "      <td>int64</td>\n",
       "    </tr>\n",
       "  </tbody>\n",
       "</table>\n",
       "<p>3 rows × 73 columns</p>\n",
       "</div>"
      ],
      "text/plain": [
       "            id member_id loan_amnt funded_amnt funded_amnt_inv    term  \\\n",
       "Total        0         0         0           0               0       0   \n",
       "Percent      0         0         0           0               0       0   \n",
       "Types    int64     int64   float64     float64         float64  object   \n",
       "\n",
       "        int_rate installment   grade sub_grade  ...  il_util open_rv_12m  \\\n",
       "Total          0           0       0         0  ...   844360      842681   \n",
       "Percent        0           0       0         0  ...     98.6        98.4   \n",
       "Types    float64     float64  object    object  ...  float64     float64   \n",
       "\n",
       "        open_rv_24m max_bal_bc all_util total_rev_hi_lim   inq_fi total_cu_tl  \\\n",
       "Total        842681     842681   842681            67313   842681      842681   \n",
       "Percent        98.4       98.4     98.4              7.9     98.4        98.4   \n",
       "Types       float64    float64  float64          float64  float64     float64   \n",
       "\n",
       "        inq_last_12m default_ind  \n",
       "Total         842681           0  \n",
       "Percent         98.4           0  \n",
       "Types        float64       int64  \n",
       "\n",
       "[3 rows x 73 columns]"
      ]
     },
     "execution_count": 8,
     "metadata": {},
     "output_type": "execute_result"
    }
   ],
   "source": [
    "def check_missing_data(dataset):\n",
    "    flag=dataset.isna().sum().any()\n",
    "    if flag==True:\n",
    "        total = dataset.isnull().sum()\n",
    "        percent = round((dataset.isnull().sum())/(dataset.isnull().count()),3)*100\n",
    "        output = pd.concat([total, percent], axis=1, keys=['Total', 'Percent'])\n",
    "        data_type = []\n",
    "        for col in dataset.columns:\n",
    "            dtype = str(dataset[col].dtype)\n",
    "            data_type.append(dtype)\n",
    "        output['Types'] = data_type\n",
    "        return(np.transpose(output))\n",
    "    else:\n",
    "        return(False)\n",
    "    \n",
    "check_missing_data(dataset)"
   ]
  },
  {
   "cell_type": "code",
   "execution_count": 9,
   "metadata": {},
   "outputs": [
    {
     "data": {
      "text/plain": [
       "0    809502\n",
       "1     46467\n",
       "Name: default_ind, dtype: int64"
      ]
     },
     "execution_count": 9,
     "metadata": {},
     "output_type": "execute_result"
    }
   ],
   "source": [
    "dataset['default_ind'].value_counts()"
   ]
  },
  {
   "cell_type": "code",
   "execution_count": 10,
   "metadata": {},
   "outputs": [
    {
     "data": {
      "text/plain": [
       "<matplotlib.axes._subplots.AxesSubplot at 0x26b9f3a63c8>"
      ]
     },
     "execution_count": 10,
     "metadata": {},
     "output_type": "execute_result"
    },
    {
     "data": {
      "image/png": "[encoded data removed]",
      "text/plain": [
       "<Figure size 432x288 with 1 Axes>"
      ]
     },
     "metadata": {
      "needs_background": "light"
     },
     "output_type": "display_data"
    }
   ],
   "source": [
    "sns.countplot('default_ind',data=dataset)"
   ]
  },
  {
   "cell_type": "code",
   "execution_count": 11,
   "metadata": {},
   "outputs": [],
   "source": [
    "#treating missing value\n",
    "\n",
    "lis = dataset.isnull().sum()\n",
    "\n",
    "for i in range (len(lis)):\n",
    "    if lis[i]>800000:\n",
    "        del dataset['{}'.format(lis.index[i])]"
   ]
  },
  {
   "cell_type": "code",
   "execution_count": 12,
   "metadata": {},
   "outputs": [
    {
     "data": {
      "text/plain": [
       "id                                  0\n",
       "member_id                           0\n",
       "loan_amnt                           0\n",
       "funded_amnt                         0\n",
       "funded_amnt_inv                     0\n",
       "term                                0\n",
       "int_rate                            0\n",
       "installment                         0\n",
       "grade                               0\n",
       "sub_grade                           0\n",
       "emp_title                       49443\n",
       "emp_length                      43061\n",
       "home_ownership                      0\n",
       "annual_inc                          0\n",
       "verification_status                 0\n",
       "issue_d                             0\n",
       "pymnt_plan                          0\n",
       "desc                           734157\n",
       "purpose                             0\n",
       "title                              33\n",
       "zip_code                            0\n",
       "addr_state                          0\n",
       "dti                                 0\n",
       "delinq_2yrs                         0\n",
       "earliest_cr_line                    0\n",
       "inq_last_6mths                      0\n",
       "mths_since_last_delinq         439812\n",
       "mths_since_last_record         724785\n",
       "open_acc                            0\n",
       "pub_rec                             0\n",
       "revol_bal                           0\n",
       "revol_util                        446\n",
       "total_acc                           0\n",
       "initial_list_status                 0\n",
       "out_prncp                           0\n",
       "out_prncp_inv                       0\n",
       "total_pymnt                         0\n",
       "total_pymnt_inv                     0\n",
       "total_rec_prncp                     0\n",
       "total_rec_int                       0\n",
       "total_rec_late_fee                  0\n",
       "recoveries                          0\n",
       "collection_recovery_fee             0\n",
       "last_pymnt_d                     8862\n",
       "last_pymnt_amnt                     0\n",
       "next_pymnt_d                   252971\n",
       "last_credit_pull_d                 50\n",
       "collections_12_mths_ex_med         56\n",
       "mths_since_last_major_derog    642830\n",
       "policy_code                         0\n",
       "application_type                    0\n",
       "acc_now_delinq                      0\n",
       "tot_coll_amt                    67313\n",
       "tot_cur_bal                     67313\n",
       "total_rev_hi_lim                67313\n",
       "default_ind                         0\n",
       "dtype: int64"
      ]
     },
     "execution_count": 12,
     "metadata": {},
     "output_type": "execute_result"
    }
   ],
   "source": [
    "dataset.isnull().sum()"
   ]
  },
  {
   "cell_type": "code",
   "execution_count": 13,
   "metadata": {},
   "outputs": [
    {
     "data": {
      "text/plain": [
       "id                            -0.219832\n",
       "member_id                     -0.220181\n",
       "loan_amnt                     -0.004907\n",
       "funded_amnt                   -0.005797\n",
       "funded_amnt_inv               -0.008209\n",
       "int_rate                       0.155037\n",
       "installment                    0.004753\n",
       "annual_inc                    -0.037066\n",
       "dti                            0.004429\n",
       "delinq_2yrs                   -0.009186\n",
       "inq_last_6mths                 0.074407\n",
       "mths_since_last_delinq         0.001317\n",
       "mths_since_last_record         0.061484\n",
       "open_acc                      -0.021698\n",
       "pub_rec                       -0.019607\n",
       "revol_bal                     -0.020696\n",
       "revol_util                     0.044497\n",
       "total_acc                     -0.021087\n",
       "out_prncp                     -0.225960\n",
       "out_prncp_inv                 -0.225959\n",
       "total_pymnt                   -0.039220\n",
       "total_pymnt_inv               -0.040232\n",
       "total_rec_prncp               -0.090336\n",
       "total_rec_int                  0.046050\n",
       "total_rec_late_fee             0.140760\n",
       "recoveries                     0.475738\n",
       "collection_recovery_fee        0.330764\n",
       "last_pymnt_amnt               -0.087217\n",
       "collections_12_mths_ex_med    -0.010650\n",
       "mths_since_last_major_derog   -0.013658\n",
       "policy_code                         NaN\n",
       "acc_now_delinq                -0.003116\n",
       "tot_coll_amt                  -0.001921\n",
       "tot_cur_bal                   -0.036335\n",
       "total_rev_hi_lim              -0.033620\n",
       "default_ind                    1.000000\n",
       "Name: default_ind, dtype: float64"
      ]
     },
     "execution_count": 13,
     "metadata": {},
     "output_type": "execute_result"
    }
   ],
   "source": [
    "dataset[dataset.columns].corr()['default_ind'][:]"
   ]
  },
  {
   "cell_type": "code",
   "execution_count": 14,
   "metadata": {},
   "outputs": [
    {
     "data": {
      "text/plain": [
       "(855969, 56)"
      ]
     },
     "execution_count": 14,
     "metadata": {},
     "output_type": "execute_result"
    }
   ],
   "source": [
    "dataset.shape"
   ]
  },
  {
   "cell_type": "code",
   "execution_count": 15,
   "metadata": {},
   "outputs": [
    {
     "data": {
      "text/plain": [
       "id                            -0.219832\n",
       "member_id                     -0.220181\n",
       "loan_amnt                     -0.004907\n",
       "funded_amnt                   -0.005797\n",
       "funded_amnt_inv               -0.008209\n",
       "int_rate                       0.155037\n",
       "installment                    0.004753\n",
       "annual_inc                    -0.037066\n",
       "dti                            0.004429\n",
       "delinq_2yrs                   -0.009186\n",
       "inq_last_6mths                 0.074407\n",
       "mths_since_last_delinq         0.001317\n",
       "mths_since_last_record         0.061484\n",
       "open_acc                      -0.021698\n",
       "pub_rec                       -0.019607\n",
       "revol_bal                     -0.020696\n",
       "revol_util                     0.044497\n",
       "total_acc                     -0.021087\n",
       "out_prncp                     -0.225960\n",
       "out_prncp_inv                 -0.225959\n",
       "total_pymnt                   -0.039220\n",
       "total_pymnt_inv               -0.040232\n",
       "total_rec_prncp               -0.090336\n",
       "total_rec_int                  0.046050\n",
       "total_rec_late_fee             0.140760\n",
       "recoveries                     0.475738\n",
       "collection_recovery_fee        0.330764\n",
       "last_pymnt_amnt               -0.087217\n",
       "collections_12_mths_ex_med    -0.010650\n",
       "mths_since_last_major_derog   -0.013658\n",
       "policy_code                         NaN\n",
       "acc_now_delinq                -0.003116\n",
       "tot_coll_amt                  -0.001921\n",
       "tot_cur_bal                   -0.036335\n",
       "total_rev_hi_lim              -0.033620\n",
       "default_ind                    1.000000\n",
       "Name: default_ind, dtype: float64"
      ]
     },
     "execution_count": 15,
     "metadata": {},
     "output_type": "execute_result"
    }
   ],
   "source": [
    "lis=dataset[dataset.columns].corr()['default_ind'][:]\n",
    "dataset[dataset.columns].corr()['default_ind'][:]"
   ]
  },
  {
   "cell_type": "code",
   "execution_count": 16,
   "metadata": {},
   "outputs": [
    {
     "name": "stdout",
     "output_type": "stream",
     "text": [
      "<class 'pandas.core.frame.DataFrame'>\n",
      "RangeIndex: 855969 entries, 0 to 855968\n",
      "Data columns (total 56 columns):\n",
      "id                             855969 non-null int64\n",
      "member_id                      855969 non-null int64\n",
      "loan_amnt                      855969 non-null float64\n",
      "funded_amnt                    855969 non-null float64\n",
      "funded_amnt_inv                855969 non-null float64\n",
      "term                           855969 non-null object\n",
      "int_rate                       855969 non-null float64\n",
      "installment                    855969 non-null float64\n",
      "grade                          855969 non-null object\n",
      "sub_grade                      855969 non-null object\n",
      "emp_title                      806526 non-null object\n",
      "emp_length                     812908 non-null object\n",
      "home_ownership                 855969 non-null object\n",
      "annual_inc                     855969 non-null float64\n",
      "verification_status            855969 non-null object\n",
      "issue_d                        855969 non-null datetime64[ns]\n",
      "pymnt_plan                     855969 non-null object\n",
      "desc                           121812 non-null object\n",
      "purpose                        855969 non-null object\n",
      "title                          855936 non-null object\n",
      "zip_code                       855969 non-null object\n",
      "addr_state                     855969 non-null object\n",
      "dti                            855969 non-null float64\n",
      "delinq_2yrs                    855969 non-null float64\n",
      "earliest_cr_line               855969 non-null object\n",
      "inq_last_6mths                 855969 non-null float64\n",
      "mths_since_last_delinq         416157 non-null float64\n",
      "mths_since_last_record         131184 non-null float64\n",
      "open_acc                       855969 non-null float64\n",
      "pub_rec                        855969 non-null float64\n",
      "revol_bal                      855969 non-null float64\n",
      "revol_util                     855523 non-null float64\n",
      "total_acc                      855969 non-null float64\n",
      "initial_list_status            855969 non-null object\n",
      "out_prncp                      855969 non-null float64\n",
      "out_prncp_inv                  855969 non-null float64\n",
      "total_pymnt                    855969 non-null float64\n",
      "total_pymnt_inv                855969 non-null float64\n",
      "total_rec_prncp                855969 non-null float64\n",
      "total_rec_int                  855969 non-null float64\n",
      "total_rec_late_fee             855969 non-null float64\n",
      "recoveries                     855969 non-null float64\n",
      "collection_recovery_fee        855969 non-null float64\n",
      "last_pymnt_d                   847107 non-null object\n",
      "last_pymnt_amnt                855969 non-null float64\n",
      "next_pymnt_d                   602998 non-null object\n",
      "last_credit_pull_d             855919 non-null object\n",
      "collections_12_mths_ex_med     855913 non-null float64\n",
      "mths_since_last_major_derog    213139 non-null float64\n",
      "policy_code                    855969 non-null float64\n",
      "application_type               855969 non-null object\n",
      "acc_now_delinq                 855969 non-null float64\n",
      "tot_coll_amt                   788656 non-null float64\n",
      "tot_cur_bal                    788656 non-null float64\n",
      "total_rev_hi_lim               788656 non-null float64\n",
      "default_ind                    855969 non-null int64\n",
      "dtypes: datetime64[ns](1), float64(33), int64(3), object(19)\n",
      "memory usage: 365.7+ MB\n",
      "(855969, 56)\n"
     ]
    }
   ],
   "source": [
    "dataset.info()\n",
    "print(dataset.shape)"
   ]
  },
  {
   "cell_type": "markdown",
   "metadata": {},
   "source": [
    "# Removing list with low correlation"
   ]
  },
  {
   "cell_type": "code",
   "execution_count": 17,
   "metadata": {},
   "outputs": [],
   "source": [
    "lis2 = []\n",
    "for i in range(len(lis)):\n",
    "    if lis[i]<0.02 and lis[i]>(-0.02):\n",
    "        lis2.append(lis.index[i])   "
   ]
  },
  {
   "cell_type": "code",
   "execution_count": 18,
   "metadata": {},
   "outputs": [
    {
     "name": "stdout",
     "output_type": "stream",
     "text": [
      "['loan_amnt', 'funded_amnt', 'funded_amnt_inv', 'installment', 'dti', 'delinq_2yrs', 'mths_since_last_delinq', 'pub_rec', 'collections_12_mths_ex_med', 'mths_since_last_major_derog', 'acc_now_delinq', 'tot_coll_amt']\n"
     ]
    }
   ],
   "source": [
    "print(lis2)"
   ]
  },
  {
   "cell_type": "code",
   "execution_count": 19,
   "metadata": {},
   "outputs": [],
   "source": [
    "for i in range(len(lis2)):\n",
    "    del dataset['{}'.format(lis2[i])]"
   ]
  },
  {
   "cell_type": "code",
   "execution_count": 20,
   "metadata": {},
   "outputs": [
    {
     "name": "stdout",
     "output_type": "stream",
     "text": [
      "<class 'pandas.core.frame.DataFrame'>\n",
      "RangeIndex: 855969 entries, 0 to 855968\n",
      "Data columns (total 44 columns):\n",
      "id                         855969 non-null int64\n",
      "member_id                  855969 non-null int64\n",
      "term                       855969 non-null object\n",
      "int_rate                   855969 non-null float64\n",
      "grade                      855969 non-null object\n",
      "sub_grade                  855969 non-null object\n",
      "emp_title                  806526 non-null object\n",
      "emp_length                 812908 non-null object\n",
      "home_ownership             855969 non-null object\n",
      "annual_inc                 855969 non-null float64\n",
      "verification_status        855969 non-null object\n",
      "issue_d                    855969 non-null datetime64[ns]\n",
      "pymnt_plan                 855969 non-null object\n",
      "desc                       121812 non-null object\n",
      "purpose                    855969 non-null object\n",
      "title                      855936 non-null object\n",
      "zip_code                   855969 non-null object\n",
      "addr_state                 855969 non-null object\n",
      "earliest_cr_line           855969 non-null object\n",
      "inq_last_6mths             855969 non-null float64\n",
      "mths_since_last_record     131184 non-null float64\n",
      "open_acc                   855969 non-null float64\n",
      "revol_bal                  855969 non-null float64\n",
      "revol_util                 855523 non-null float64\n",
      "total_acc                  855969 non-null float64\n",
      "initial_list_status        855969 non-null object\n",
      "out_prncp                  855969 non-null float64\n",
      "out_prncp_inv              855969 non-null float64\n",
      "total_pymnt                855969 non-null float64\n",
      "total_pymnt_inv            855969 non-null float64\n",
      "total_rec_prncp            855969 non-null float64\n",
      "total_rec_int              855969 non-null float64\n",
      "total_rec_late_fee         855969 non-null float64\n",
      "recoveries                 855969 non-null float64\n",
      "collection_recovery_fee    855969 non-null float64\n",
      "last_pymnt_d               847107 non-null object\n",
      "last_pymnt_amnt            855969 non-null float64\n",
      "next_pymnt_d               602998 non-null object\n",
      "last_credit_pull_d         855919 non-null object\n",
      "policy_code                855969 non-null float64\n",
      "application_type           855969 non-null object\n",
      "tot_cur_bal                788656 non-null float64\n",
      "total_rev_hi_lim           788656 non-null float64\n",
      "default_ind                855969 non-null int64\n",
      "dtypes: datetime64[ns](1), float64(21), int64(3), object(19)\n",
      "memory usage: 287.3+ MB\n"
     ]
    }
   ],
   "source": [
    "dataset.info()"
   ]
  },
  {
   "cell_type": "code",
   "execution_count": 21,
   "metadata": {},
   "outputs": [
    {
     "data": {
      "text/plain": [
       "(855969, 44)"
      ]
     },
     "execution_count": 21,
     "metadata": {},
     "output_type": "execute_result"
    }
   ],
   "source": [
    "dataset.shape"
   ]
  },
  {
   "cell_type": "code",
   "execution_count": 22,
   "metadata": {},
   "outputs": [
    {
     "data": {
      "text/plain": [
       "INDIVIDUAL    855527\n",
       "JOINT            442\n",
       "Name: application_type, dtype: int64"
      ]
     },
     "execution_count": 22,
     "metadata": {},
     "output_type": "execute_result"
    }
   ],
   "source": [
    "dataset['application_type'].value_counts()"
   ]
  },
  {
   "cell_type": "code",
   "execution_count": 23,
   "metadata": {},
   "outputs": [
    {
     "data": {
      "text/plain": [
       "<matplotlib.axes._subplots.AxesSubplot at 0x26b9fb6e2e8>"
      ]
     },
     "execution_count": 23,
     "metadata": {},
     "output_type": "execute_result"
    },
    {
     "data": {
      "image/png": "[encoded data removed]",
      "text/plain": [
       "<Figure size 432x288 with 1 Axes>"
      ]
     },
     "metadata": {
      "needs_background": "light"
     },
     "output_type": "display_data"
    }
   ],
   "source": [
    "sns.countplot('application_type',data=dataset)"
   ]
  },
  {
   "cell_type": "code",
   "execution_count": 24,
   "metadata": {},
   "outputs": [
    {
     "data": {
      "text/plain": [
       "application_type  default_ind\n",
       "INDIVIDUAL        0              809060\n",
       "                  1               46467\n",
       "JOINT             0                 442\n",
       "Name: default_ind, dtype: int64"
      ]
     },
     "execution_count": 24,
     "metadata": {},
     "output_type": "execute_result"
    }
   ],
   "source": [
    "df = dataset.groupby('application_type')\n",
    "df['default_ind'].value_counts()"
   ]
  },
  {
   "cell_type": "code",
   "execution_count": 25,
   "metadata": {},
   "outputs": [],
   "source": [
    "dataset['application_type'] = np.where(dataset['application_type']=='INDIVIDUAL',0,dataset['application_type'])\n",
    "dataset['application_type'] = np.where(dataset['application_type']=='JOINT',1,dataset['application_type'])"
   ]
  },
  {
   "cell_type": "code",
   "execution_count": 26,
   "metadata": {},
   "outputs": [
    {
     "data": {
      "text/plain": [
       "0    855527\n",
       "1       442\n",
       "Name: application_type, dtype: int64"
      ]
     },
     "execution_count": 26,
     "metadata": {},
     "output_type": "execute_result"
    }
   ],
   "source": [
    "dataset['application_type'].value_counts()"
   ]
  },
  {
   "cell_type": "code",
   "execution_count": 27,
   "metadata": {},
   "outputs": [],
   "source": [
    "dataset['application_type'] = dataset['application_type'].astype(float)"
   ]
  },
  {
   "cell_type": "code",
   "execution_count": 28,
   "metadata": {},
   "outputs": [
    {
     "data": {
      "text/plain": [
       "Source Verified    318178\n",
       "Verified           280049\n",
       "Not Verified       257742\n",
       "Name: verification_status, dtype: int64"
      ]
     },
     "execution_count": 28,
     "metadata": {},
     "output_type": "execute_result"
    }
   ],
   "source": [
    "dataset['verification_status'].value_counts()"
   ]
  },
  {
   "cell_type": "code",
   "execution_count": 29,
   "metadata": {},
   "outputs": [
    {
     "data": {
      "text/plain": [
       "<matplotlib.axes._subplots.AxesSubplot at 0x26b9fbe3a58>"
      ]
     },
     "execution_count": 29,
     "metadata": {},
     "output_type": "execute_result"
    },
    {
     "data": {
      "image/png": "[encoded data removed]",
      "text/plain": [
       "<Figure size 432x288 with 1 Axes>"
      ]
     },
     "metadata": {
      "needs_background": "light"
     },
     "output_type": "display_data"
    }
   ],
   "source": [
    "sns.countplot('verification_status',data=dataset, hue= 'default_ind')"
   ]
  },
  {
   "cell_type": "code",
   "execution_count": 30,
   "metadata": {},
   "outputs": [],
   "source": [
    "#dummies \n",
    "ds = pd.get_dummies(dataset['verification_status'],drop_first=True)\n",
    "dataset = pd.concat([ds,dataset],axis=1)\n",
    "del dataset['verification_status']"
   ]
  },
  {
   "cell_type": "markdown",
   "metadata": {},
   "source": [
    "# Intial _list_status"
   ]
  },
  {
   "cell_type": "code",
   "execution_count": 31,
   "metadata": {},
   "outputs": [
    {
     "data": {
      "text/plain": [
       "f    442555\n",
       "w    413414\n",
       "Name: initial_list_status, dtype: int64"
      ]
     },
     "execution_count": 31,
     "metadata": {},
     "output_type": "execute_result"
    }
   ],
   "source": [
    "dataset['initial_list_status'].value_counts()"
   ]
  },
  {
   "cell_type": "code",
   "execution_count": 32,
   "metadata": {},
   "outputs": [
    {
     "data": {
      "text/plain": [
       "<matplotlib.axes._subplots.AxesSubplot at 0x26ba02da278>"
      ]
     },
     "execution_count": 32,
     "metadata": {},
     "output_type": "execute_result"
    },
    {
     "data": {
      "image/png": "[encoded data removed]",
      "text/plain": [
       "<Figure size 432x288 with 1 Axes>"
      ]
     },
     "metadata": {
      "needs_background": "light"
     },
     "output_type": "display_data"
    }
   ],
   "source": [
    "sns.countplot('initial_list_status',data=dataset,hue='default_ind')"
   ]
  },
  {
   "cell_type": "code",
   "execution_count": 33,
   "metadata": {},
   "outputs": [],
   "source": [
    "dataset['initial_list_status'] = np.where(dataset['initial_list_status']=='f',0,dataset['initial_list_status'])\n",
    "dataset['initial_list_status'] = np.where(dataset['initial_list_status']=='w',1,dataset['initial_list_status'])"
   ]
  },
  {
   "cell_type": "code",
   "execution_count": 34,
   "metadata": {},
   "outputs": [
    {
     "data": {
      "text/plain": [
       "0    442555\n",
       "1    413414\n",
       "Name: initial_list_status, dtype: int64"
      ]
     },
     "execution_count": 34,
     "metadata": {},
     "output_type": "execute_result"
    }
   ],
   "source": [
    "dataset['initial_list_status'].value_counts()"
   ]
  },
  {
   "cell_type": "code",
   "execution_count": 35,
   "metadata": {},
   "outputs": [],
   "source": [
    "dataset['initial_list_status'] = dataset['initial_list_status'].astype(float)"
   ]
  },
  {
   "cell_type": "markdown",
   "metadata": {},
   "source": [
    "# Term "
   ]
  },
  {
   "cell_type": "code",
   "execution_count": 36,
   "metadata": {},
   "outputs": [
    {
     "data": {
      "text/plain": [
       " 36 months    600221\n",
       " 60 months    255748\n",
       "Name: term, dtype: int64"
      ]
     },
     "execution_count": 36,
     "metadata": {},
     "output_type": "execute_result"
    }
   ],
   "source": [
    "dataset['term'].value_counts()"
   ]
  },
  {
   "cell_type": "code",
   "execution_count": 37,
   "metadata": {},
   "outputs": [
    {
     "data": {
      "text/plain": [
       "<matplotlib.axes._subplots.AxesSubplot at 0x26ba05d60b8>"
      ]
     },
     "execution_count": 37,
     "metadata": {},
     "output_type": "execute_result"
    },
    {
     "data": {
      "image/png": "[encoded data removed]",
      "text/plain": [
       "<Figure size 432x288 with 1 Axes>"
      ]
     },
     "metadata": {
      "needs_background": "light"
     },
     "output_type": "display_data"
    }
   ],
   "source": [
    "sns.countplot('term', data=dataset ,hue='default_ind')"
   ]
  },
  {
   "cell_type": "code",
   "execution_count": 38,
   "metadata": {},
   "outputs": [],
   "source": [
    "dataset['term'] = np.where(dataset['term']==' 36 months',0,dataset['term'])\n",
    "dataset['term'] = np.where(dataset['term']==' 60 months',1, dataset['term'])"
   ]
  },
  {
   "cell_type": "code",
   "execution_count": 39,
   "metadata": {},
   "outputs": [
    {
     "data": {
      "text/plain": [
       "0    600221\n",
       "1    255748\n",
       "Name: term, dtype: int64"
      ]
     },
     "execution_count": 39,
     "metadata": {},
     "output_type": "execute_result"
    }
   ],
   "source": [
    "dataset['term'].value_counts()"
   ]
  },
  {
   "cell_type": "code",
   "execution_count": 40,
   "metadata": {},
   "outputs": [],
   "source": [
    "dataset['term'] = dataset['term'].astype(float)"
   ]
  },
  {
   "cell_type": "markdown",
   "metadata": {},
   "source": [
    "# Grade"
   ]
  },
  {
   "cell_type": "code",
   "execution_count": 41,
   "metadata": {},
   "outputs": [
    {
     "data": {
      "text/plain": [
       "B    247998\n",
       "C    236855\n",
       "A    145665\n",
       "D    132802\n",
       "E     66448\n",
       "F     21328\n",
       "G      4873\n",
       "Name: grade, dtype: int64"
      ]
     },
     "execution_count": 41,
     "metadata": {},
     "output_type": "execute_result"
    }
   ],
   "source": [
    "dataset['grade'].value_counts()"
   ]
  },
  {
   "cell_type": "code",
   "execution_count": 42,
   "metadata": {},
   "outputs": [
    {
     "data": {
      "text/plain": [
       "<matplotlib.axes._subplots.AxesSubplot at 0x26ba0e5b278>"
      ]
     },
     "execution_count": 42,
     "metadata": {},
     "output_type": "execute_result"
    },
    {
     "data": {
      "image/png": "[encoded data removed]",
      "text/plain": [
       "<Figure size 432x288 with 1 Axes>"
      ]
     },
     "metadata": {
      "needs_background": "light"
     },
     "output_type": "display_data"
    }
   ],
   "source": [
    "sns.countplot('grade' , data=dataset, hue = 'default_ind',color = 'blue',saturation = 1)"
   ]
  },
  {
   "cell_type": "code",
   "execution_count": 43,
   "metadata": {},
   "outputs": [],
   "source": [
    "dataset['grade'] = np.where(dataset['grade']=='A',0,dataset['grade'])\n",
    "dataset['grade'] = np.where(dataset['grade']=='B',0,dataset['grade'])\n",
    "dataset['grade'] = np.where(dataset['grade']=='C',0,dataset['grade'])\n",
    "dataset['grade'] = np.where(dataset['grade']=='D',1,dataset['grade'])\n",
    "dataset['grade'] = np.where(dataset['grade']=='E',1,dataset['grade'])\n",
    "dataset['grade'] = np.where(dataset['grade']=='F',1,dataset['grade'])\n",
    "dataset['grade'] = np.where(dataset['grade']=='G',1,dataset['grade'])"
   ]
  },
  {
   "cell_type": "code",
   "execution_count": 44,
   "metadata": {},
   "outputs": [
    {
     "data": {
      "text/plain": [
       "0    630518\n",
       "1    225451\n",
       "Name: grade, dtype: int64"
      ]
     },
     "execution_count": 44,
     "metadata": {},
     "output_type": "execute_result"
    }
   ],
   "source": [
    "dataset['grade'].value_counts()"
   ]
  },
  {
   "cell_type": "code",
   "execution_count": 45,
   "metadata": {},
   "outputs": [],
   "source": [
    "dataset['grade'] = dataset['grade'].astype(float)"
   ]
  },
  {
   "cell_type": "markdown",
   "metadata": {},
   "source": [
    "# Home_Ownership"
   ]
  },
  {
   "cell_type": "code",
   "execution_count": 46,
   "metadata": {},
   "outputs": [
    {
     "data": {
      "text/plain": [
       "MORTGAGE    429106\n",
       "RENT        342535\n",
       "OWN          84136\n",
       "OTHER          144\n",
       "NONE            45\n",
       "ANY              3\n",
       "Name: home_ownership, dtype: int64"
      ]
     },
     "execution_count": 46,
     "metadata": {},
     "output_type": "execute_result"
    }
   ],
   "source": [
    "dataset['home_ownership'].value_counts()"
   ]
  },
  {
   "cell_type": "code",
   "execution_count": 47,
   "metadata": {},
   "outputs": [
    {
     "data": {
      "text/plain": [
       "home_ownership  default_ind\n",
       "ANY             0                   3\n",
       "MORTGAGE        0              408730\n",
       "                1               20376\n",
       "NONE            0                  38\n",
       "                1                   7\n",
       "OTHER           0                 117\n",
       "                1                  27\n",
       "OWN             0               80001\n",
       "                1                4135\n",
       "RENT            0              320613\n",
       "                1               21922\n",
       "Name: default_ind, dtype: int64"
      ]
     },
     "execution_count": 47,
     "metadata": {},
     "output_type": "execute_result"
    }
   ],
   "source": [
    "dg = dataset.groupby('home_ownership')\n",
    "dg['default_ind'].value_counts()"
   ]
  },
  {
   "cell_type": "code",
   "execution_count": 48,
   "metadata": {},
   "outputs": [
    {
     "data": {
      "text/plain": [
       "<matplotlib.axes._subplots.AxesSubplot at 0x26ba0a7ffd0>"
      ]
     },
     "execution_count": 48,
     "metadata": {},
     "output_type": "execute_result"
    },
    {
     "data": {
      "image/png": "[encoded data removed]",
      "text/plain": [
       "<Figure size 432x288 with 1 Axes>"
      ]
     },
     "metadata": {
      "needs_background": "light"
     },
     "output_type": "display_data"
    }
   ],
   "source": [
    "sns.countplot('home_ownership',data=dataset,hue='default_ind')"
   ]
  },
  {
   "cell_type": "code",
   "execution_count": 49,
   "metadata": {},
   "outputs": [],
   "source": [
    "dataset['home_ownership'] = np.where(dataset['home_ownership']=='RENT',1,dataset['home_ownership'])\n",
    "dataset['home_ownership'] = np.where(dataset['home_ownership']=='OWN',1,dataset['home_ownership'])\n",
    "dataset['home_ownership'] = np.where(dataset['home_ownership']=='MORTGAGE',1,dataset['home_ownership'])\n",
    "dataset['home_ownership'] = np.where(dataset['home_ownership']=='OTHER',2,dataset['home_ownership'])\n",
    "dataset['home_ownership'] = np.where(dataset['home_ownership']=='NONE',2,dataset['home_ownership'])\n",
    "dataset['home_ownership'] = np.where(dataset['home_ownership']=='ANY',0,dataset['home_ownership'])"
   ]
  },
  {
   "cell_type": "code",
   "execution_count": 50,
   "metadata": {},
   "outputs": [
    {
     "data": {
      "text/plain": [
       "1    855777\n",
       "2       189\n",
       "0         3\n",
       "Name: home_ownership, dtype: int64"
      ]
     },
     "execution_count": 50,
     "metadata": {},
     "output_type": "execute_result"
    }
   ],
   "source": [
    "dataset['home_ownership'].value_counts()"
   ]
  },
  {
   "cell_type": "code",
   "execution_count": 51,
   "metadata": {},
   "outputs": [],
   "source": [
    "dw = pd.get_dummies(dataset['home_ownership'],drop_first=True)\n",
    "dataset = pd.concat([dw,dataset],axis=1)\n",
    "del dataset['home_ownership']"
   ]
  },
  {
   "cell_type": "code",
   "execution_count": 52,
   "metadata": {},
   "outputs": [
    {
     "data": {
      "text/plain": [
       "n    855964\n",
       "y         5\n",
       "Name: pymnt_plan, dtype: int64"
      ]
     },
     "execution_count": 52,
     "metadata": {},
     "output_type": "execute_result"
    }
   ],
   "source": [
    "dataset['pymnt_plan'].value_counts()"
   ]
  },
  {
   "cell_type": "code",
   "execution_count": 53,
   "metadata": {},
   "outputs": [],
   "source": [
    "del dataset['pymnt_plan']"
   ]
  },
  {
   "cell_type": "code",
   "execution_count": 54,
   "metadata": {},
   "outputs": [
    {
     "name": "stdout",
     "output_type": "stream",
     "text": [
      "<class 'pandas.core.frame.DataFrame'>\n",
      "RangeIndex: 855969 entries, 0 to 855968\n",
      "Data columns (total 45 columns):\n",
      "1                          855969 non-null uint8\n",
      "2                          855969 non-null uint8\n",
      "Source Verified            855969 non-null uint8\n",
      "Verified                   855969 non-null uint8\n",
      "id                         855969 non-null int64\n",
      "member_id                  855969 non-null int64\n",
      "term                       855969 non-null float64\n",
      "int_rate                   855969 non-null float64\n",
      "grade                      855969 non-null float64\n",
      "sub_grade                  855969 non-null object\n",
      "emp_title                  806526 non-null object\n",
      "emp_length                 812908 non-null object\n",
      "annual_inc                 855969 non-null float64\n",
      "issue_d                    855969 non-null datetime64[ns]\n",
      "desc                       121812 non-null object\n",
      "purpose                    855969 non-null object\n",
      "title                      855936 non-null object\n",
      "zip_code                   855969 non-null object\n",
      "addr_state                 855969 non-null object\n",
      "earliest_cr_line           855969 non-null object\n",
      "inq_last_6mths             855969 non-null float64\n",
      "mths_since_last_record     131184 non-null float64\n",
      "open_acc                   855969 non-null float64\n",
      "revol_bal                  855969 non-null float64\n",
      "revol_util                 855523 non-null float64\n",
      "total_acc                  855969 non-null float64\n",
      "initial_list_status        855969 non-null float64\n",
      "out_prncp                  855969 non-null float64\n",
      "out_prncp_inv              855969 non-null float64\n",
      "total_pymnt                855969 non-null float64\n",
      "total_pymnt_inv            855969 non-null float64\n",
      "total_rec_prncp            855969 non-null float64\n",
      "total_rec_int              855969 non-null float64\n",
      "total_rec_late_fee         855969 non-null float64\n",
      "recoveries                 855969 non-null float64\n",
      "collection_recovery_fee    855969 non-null float64\n",
      "last_pymnt_d               847107 non-null object\n",
      "last_pymnt_amnt            855969 non-null float64\n",
      "next_pymnt_d               602998 non-null object\n",
      "last_credit_pull_d         855919 non-null object\n",
      "policy_code                855969 non-null float64\n",
      "application_type           855969 non-null float64\n",
      "tot_cur_bal                788656 non-null float64\n",
      "total_rev_hi_lim           788656 non-null float64\n",
      "default_ind                855969 non-null int64\n",
      "dtypes: datetime64[ns](1), float64(25), int64(3), object(12), uint8(4)\n",
      "memory usage: 271.0+ MB\n"
     ]
    }
   ],
   "source": [
    "dataset.info()"
   ]
  },
  {
   "cell_type": "markdown",
   "metadata": {},
   "source": [
    "# last_credit_pull_d"
   ]
  },
  {
   "cell_type": "code",
   "execution_count": 55,
   "metadata": {},
   "outputs": [],
   "source": [
    "dataset['last_credit_pull_d'] = pd.to_datetime(dataset['last_credit_pull_d'])\n",
    "dataset['Month'] = dataset['last_credit_pull_d'].apply(lambda x: x.month)\n",
    "dataset['Year']  = dataset['last_credit_pull_d'].apply(lambda x: x.year)\n"
   ]
  },
  {
   "cell_type": "code",
   "execution_count": 56,
   "metadata": {},
   "outputs": [],
   "source": [
    "dataset = dataset.drop(['last_credit_pull_d'], axis =1)"
   ]
  },
  {
   "cell_type": "code",
   "execution_count": 57,
   "metadata": {},
   "outputs": [
    {
     "data": {
      "text/plain": [
       "1                                   uint8\n",
       "2                                   uint8\n",
       "Source Verified                     uint8\n",
       "Verified                            uint8\n",
       "id                                  int64\n",
       "member_id                           int64\n",
       "term                              float64\n",
       "int_rate                          float64\n",
       "grade                             float64\n",
       "sub_grade                          object\n",
       "emp_title                          object\n",
       "emp_length                         object\n",
       "annual_inc                        float64\n",
       "issue_d                    datetime64[ns]\n",
       "desc                               object\n",
       "purpose                            object\n",
       "title                              object\n",
       "zip_code                           object\n",
       "addr_state                         object\n",
       "earliest_cr_line                   object\n",
       "inq_last_6mths                    float64\n",
       "mths_since_last_record            float64\n",
       "open_acc                          float64\n",
       "revol_bal                         float64\n",
       "revol_util                        float64\n",
       "total_acc                         float64\n",
       "initial_list_status               float64\n",
       "out_prncp                         float64\n",
       "out_prncp_inv                     float64\n",
       "total_pymnt                       float64\n",
       "total_pymnt_inv                   float64\n",
       "total_rec_prncp                   float64\n",
       "total_rec_int                     float64\n",
       "total_rec_late_fee                float64\n",
       "recoveries                        float64\n",
       "collection_recovery_fee           float64\n",
       "last_pymnt_d                       object\n",
       "last_pymnt_amnt                   float64\n",
       "next_pymnt_d                       object\n",
       "policy_code                       float64\n",
       "application_type                  float64\n",
       "tot_cur_bal                       float64\n",
       "total_rev_hi_lim                  float64\n",
       "default_ind                         int64\n",
       "Month                             float64\n",
       "Year                              float64\n",
       "dtype: object"
      ]
     },
     "execution_count": 57,
     "metadata": {},
     "output_type": "execute_result"
    }
   ],
   "source": [
    "dataset.dtypes"
   ]
  },
  {
   "cell_type": "code",
   "execution_count": 58,
   "metadata": {},
   "outputs": [],
   "source": [
    "dataset = dataset.drop(['next_pymnt_d', 'last_pymnt_d', 'earliest_cr_line','desc','purpose','title','zip_code','addr_state','sub_grade','emp_title','emp_length'],axis=1)"
   ]
  },
  {
   "cell_type": "code",
   "execution_count": 59,
   "metadata": {},
   "outputs": [
    {
     "data": {
      "text/plain": [
       "(855969, 35)"
      ]
     },
     "execution_count": 59,
     "metadata": {},
     "output_type": "execute_result"
    }
   ],
   "source": [
    "dataset.shape"
   ]
  },
  {
   "cell_type": "code",
   "execution_count": 60,
   "metadata": {},
   "outputs": [
    {
     "data": {
      "text/plain": [
       "1                                   uint8\n",
       "2                                   uint8\n",
       "Source Verified                     uint8\n",
       "Verified                            uint8\n",
       "id                                  int64\n",
       "member_id                           int64\n",
       "term                              float64\n",
       "int_rate                          float64\n",
       "grade                             float64\n",
       "annual_inc                        float64\n",
       "issue_d                    datetime64[ns]\n",
       "inq_last_6mths                    float64\n",
       "mths_since_last_record            float64\n",
       "open_acc                          float64\n",
       "revol_bal                         float64\n",
       "revol_util                        float64\n",
       "total_acc                         float64\n",
       "initial_list_status               float64\n",
       "out_prncp                         float64\n",
       "out_prncp_inv                     float64\n",
       "total_pymnt                       float64\n",
       "total_pymnt_inv                   float64\n",
       "total_rec_prncp                   float64\n",
       "total_rec_int                     float64\n",
       "total_rec_late_fee                float64\n",
       "recoveries                        float64\n",
       "collection_recovery_fee           float64\n",
       "last_pymnt_amnt                   float64\n",
       "policy_code                       float64\n",
       "application_type                  float64\n",
       "tot_cur_bal                       float64\n",
       "total_rev_hi_lim                  float64\n",
       "default_ind                         int64\n",
       "Month                             float64\n",
       "Year                              float64\n",
       "dtype: object"
      ]
     },
     "execution_count": 60,
     "metadata": {},
     "output_type": "execute_result"
    }
   ],
   "source": [
    "dataset.dtypes"
   ]
  },
  {
   "cell_type": "code",
   "execution_count": 61,
   "metadata": {},
   "outputs": [
    {
     "data": {
      "text/plain": [
       "1                               0\n",
       "2                               0\n",
       "Source Verified                 0\n",
       "Verified                        0\n",
       "id                              0\n",
       "member_id                       0\n",
       "term                            0\n",
       "int_rate                        0\n",
       "grade                           0\n",
       "annual_inc                      0\n",
       "issue_d                         0\n",
       "inq_last_6mths                  0\n",
       "mths_since_last_record     724785\n",
       "open_acc                        0\n",
       "revol_bal                       0\n",
       "revol_util                    446\n",
       "total_acc                       0\n",
       "initial_list_status             0\n",
       "out_prncp                       0\n",
       "out_prncp_inv                   0\n",
       "total_pymnt                     0\n",
       "total_pymnt_inv                 0\n",
       "total_rec_prncp                 0\n",
       "total_rec_int                   0\n",
       "total_rec_late_fee              0\n",
       "recoveries                      0\n",
       "collection_recovery_fee         0\n",
       "last_pymnt_amnt                 0\n",
       "policy_code                     0\n",
       "application_type                0\n",
       "tot_cur_bal                 67313\n",
       "total_rev_hi_lim            67313\n",
       "default_ind                     0\n",
       "Month                          50\n",
       "Year                           50\n",
       "dtype: int64"
      ]
     },
     "execution_count": 61,
     "metadata": {},
     "output_type": "execute_result"
    }
   ],
   "source": [
    "dataset.isnull().sum()"
   ]
  },
  {
   "cell_type": "code",
   "execution_count": 62,
   "metadata": {},
   "outputs": [],
   "source": [
    "del dataset['mths_since_last_record']\n",
    "del dataset['id']\n",
    "del dataset['member_id']\n",
    "del dataset['tot_cur_bal']\n",
    "del dataset['total_rev_hi_lim']\n",
    "del dataset['policy_code']"
   ]
  },
  {
   "cell_type": "code",
   "execution_count": 63,
   "metadata": {},
   "outputs": [
    {
     "data": {
      "text/plain": [
       "(855969, 29)"
      ]
     },
     "execution_count": 63,
     "metadata": {},
     "output_type": "execute_result"
    }
   ],
   "source": [
    "dataset.shape"
   ]
  },
  {
   "cell_type": "code",
   "execution_count": 64,
   "metadata": {},
   "outputs": [
    {
     "data": {
      "text/plain": [
       "<matplotlib.axes._subplots.AxesSubplot at 0x26ba0ae38d0>"
      ]
     },
     "execution_count": 64,
     "metadata": {},
     "output_type": "execute_result"
    },
    {
     "data": {
      "image/png": "[encoded data removed]",
      "text/plain": [
       "<Figure size 1440x1440 with 2 Axes>"
      ]
     },
     "metadata": {
      "needs_background": "light"
     },
     "output_type": "display_data"
    }
   ],
   "source": [
    "plt.figure(figsize=(20,20))\n",
    "sns.heatmap(dataset.corr(), cmap = 'magma')"
   ]
  },
  {
   "cell_type": "code",
   "execution_count": 65,
   "metadata": {},
   "outputs": [
    {
     "data": {
      "text/plain": [
       "Index([                        1,                         2,\n",
       "               'Source Verified',                'Verified',\n",
       "                          'term',                'int_rate',\n",
       "                         'grade',              'annual_inc',\n",
       "                       'issue_d',          'inq_last_6mths',\n",
       "                      'open_acc',               'revol_bal',\n",
       "                    'revol_util',               'total_acc',\n",
       "           'initial_list_status',               'out_prncp',\n",
       "                 'out_prncp_inv',             'total_pymnt',\n",
       "               'total_pymnt_inv',         'total_rec_prncp',\n",
       "                 'total_rec_int',      'total_rec_late_fee',\n",
       "                    'recoveries', 'collection_recovery_fee',\n",
       "               'last_pymnt_amnt',        'application_type',\n",
       "                   'default_ind',                   'Month',\n",
       "                          'Year'],\n",
       "      dtype='object')"
      ]
     },
     "execution_count": 65,
     "metadata": {},
     "output_type": "execute_result"
    }
   ],
   "source": [
    "dataset.columns"
   ]
  },
  {
   "cell_type": "code",
   "execution_count": 66,
   "metadata": {},
   "outputs": [],
   "source": [
    "dataset['revol_util'].fillna(dataset['revol_util'].mean(),inplace=True)\n",
    "dataset['Month'].fillna(dataset.mode()['Month'][0],inplace=True)\n",
    "dataset['Year'].fillna(dataset.mode()['Year'][0],inplace=True)"
   ]
  },
  {
   "cell_type": "code",
   "execution_count": 67,
   "metadata": {},
   "outputs": [
    {
     "data": {
      "text/plain": [
       "(855969, 29)"
      ]
     },
     "execution_count": 67,
     "metadata": {},
     "output_type": "execute_result"
    }
   ],
   "source": [
    "dataset.shape"
   ]
  },
  {
   "cell_type": "code",
   "execution_count": 68,
   "metadata": {},
   "outputs": [],
   "source": [
    "dataset['last'] = dataset['default_ind']\n",
    "del dataset['default_ind']\n",
    "dataset['default_ind'] = dataset['last']\n",
    "del dataset['last']"
   ]
  },
  {
   "cell_type": "code",
   "execution_count": 69,
   "metadata": {},
   "outputs": [
    {
     "data": {
      "text/plain": [
       "Index([                        1,                         2,\n",
       "               'Source Verified',                'Verified',\n",
       "                          'term',                'int_rate',\n",
       "                         'grade',              'annual_inc',\n",
       "                       'issue_d',          'inq_last_6mths',\n",
       "                      'open_acc',               'revol_bal',\n",
       "                    'revol_util',               'total_acc',\n",
       "           'initial_list_status',               'out_prncp',\n",
       "                 'out_prncp_inv',             'total_pymnt',\n",
       "               'total_pymnt_inv',         'total_rec_prncp',\n",
       "                 'total_rec_int',      'total_rec_late_fee',\n",
       "                    'recoveries', 'collection_recovery_fee',\n",
       "               'last_pymnt_amnt',        'application_type',\n",
       "                         'Month',                    'Year',\n",
       "                   'default_ind'],\n",
       "      dtype='object')"
      ]
     },
     "execution_count": 69,
     "metadata": {},
     "output_type": "execute_result"
    }
   ],
   "source": [
    "dataset.columns"
   ]
  },
  {
   "cell_type": "code",
   "execution_count": 70,
   "metadata": {},
   "outputs": [
    {
     "name": "stdout",
     "output_type": "stream",
     "text": [
      "<class 'pandas.core.frame.DataFrame'>\n",
      "RangeIndex: 855969 entries, 0 to 855968\n",
      "Data columns (total 29 columns):\n",
      "1                          855969 non-null uint8\n",
      "2                          855969 non-null uint8\n",
      "Source Verified            855969 non-null uint8\n",
      "Verified                   855969 non-null uint8\n",
      "term                       855969 non-null float64\n",
      "int_rate                   855969 non-null float64\n",
      "grade                      855969 non-null float64\n",
      "annual_inc                 855969 non-null float64\n",
      "issue_d                    855969 non-null datetime64[ns]\n",
      "inq_last_6mths             855969 non-null float64\n",
      "open_acc                   855969 non-null float64\n",
      "revol_bal                  855969 non-null float64\n",
      "revol_util                 855969 non-null float64\n",
      "total_acc                  855969 non-null float64\n",
      "initial_list_status        855969 non-null float64\n",
      "out_prncp                  855969 non-null float64\n",
      "out_prncp_inv              855969 non-null float64\n",
      "total_pymnt                855969 non-null float64\n",
      "total_pymnt_inv            855969 non-null float64\n",
      "total_rec_prncp            855969 non-null float64\n",
      "total_rec_int              855969 non-null float64\n",
      "total_rec_late_fee         855969 non-null float64\n",
      "recoveries                 855969 non-null float64\n",
      "collection_recovery_fee    855969 non-null float64\n",
      "last_pymnt_amnt            855969 non-null float64\n",
      "application_type           855969 non-null float64\n",
      "Month                      855969 non-null float64\n",
      "Year                       855969 non-null float64\n",
      "default_ind                855969 non-null int64\n",
      "dtypes: datetime64[ns](1), float64(23), int64(1), uint8(4)\n",
      "memory usage: 166.5 MB\n"
     ]
    }
   ],
   "source": [
    "dataset.info()"
   ]
  },
  {
   "cell_type": "code",
   "execution_count": 71,
   "metadata": {},
   "outputs": [
    {
     "data": {
      "text/html": [
       "<div>\n",
       "<style scoped>\n",
       "    .dataframe tbody tr th:only-of-type {\n",
       "        vertical-align: middle;\n",
       "    }\n",
       "\n",
       "    .dataframe tbody tr th {\n",
       "        vertical-align: top;\n",
       "    }\n",
       "\n",
       "    .dataframe thead th {\n",
       "        text-align: right;\n",
       "    }\n",
       "</style>\n",
       "<table border=\"1\" class=\"dataframe\">\n",
       "  <thead>\n",
       "    <tr style=\"text-align: right;\">\n",
       "      <th></th>\n",
       "      <th>1</th>\n",
       "      <th>2</th>\n",
       "      <th>Source Verified</th>\n",
       "      <th>Verified</th>\n",
       "      <th>term</th>\n",
       "      <th>int_rate</th>\n",
       "      <th>grade</th>\n",
       "      <th>annual_inc</th>\n",
       "      <th>inq_last_6mths</th>\n",
       "      <th>open_acc</th>\n",
       "      <th>...</th>\n",
       "      <th>total_rec_prncp</th>\n",
       "      <th>total_rec_int</th>\n",
       "      <th>total_rec_late_fee</th>\n",
       "      <th>recoveries</th>\n",
       "      <th>collection_recovery_fee</th>\n",
       "      <th>last_pymnt_amnt</th>\n",
       "      <th>application_type</th>\n",
       "      <th>Month</th>\n",
       "      <th>Year</th>\n",
       "      <th>default_ind</th>\n",
       "    </tr>\n",
       "  </thead>\n",
       "  <tbody>\n",
       "    <tr>\n",
       "      <th>count</th>\n",
       "      <td>855969.000000</td>\n",
       "      <td>855969.000000</td>\n",
       "      <td>855969.000000</td>\n",
       "      <td>855969.000000</td>\n",
       "      <td>855969.000000</td>\n",
       "      <td>855969.000000</td>\n",
       "      <td>855969.000000</td>\n",
       "      <td>8.559690e+05</td>\n",
       "      <td>855969.000000</td>\n",
       "      <td>855969.000000</td>\n",
       "      <td>...</td>\n",
       "      <td>855969.000000</td>\n",
       "      <td>855969.000000</td>\n",
       "      <td>855969.000000</td>\n",
       "      <td>855969.000000</td>\n",
       "      <td>855969.000000</td>\n",
       "      <td>855969.000000</td>\n",
       "      <td>855969.000000</td>\n",
       "      <td>855969.000000</td>\n",
       "      <td>855969.000000</td>\n",
       "      <td>855969.000000</td>\n",
       "    </tr>\n",
       "    <tr>\n",
       "      <th>mean</th>\n",
       "      <td>0.999776</td>\n",
       "      <td>0.000221</td>\n",
       "      <td>0.371717</td>\n",
       "      <td>0.327172</td>\n",
       "      <td>0.298782</td>\n",
       "      <td>13.192320</td>\n",
       "      <td>0.263387</td>\n",
       "      <td>7.507119e+04</td>\n",
       "      <td>0.680915</td>\n",
       "      <td>11.542447</td>\n",
       "      <td>...</td>\n",
       "      <td>5850.841088</td>\n",
       "      <td>1755.046221</td>\n",
       "      <td>0.319530</td>\n",
       "      <td>47.089499</td>\n",
       "      <td>4.951227</td>\n",
       "      <td>2225.985295</td>\n",
       "      <td>0.000516</td>\n",
       "      <td>2.191089</td>\n",
       "      <td>2015.719162</td>\n",
       "      <td>0.054286</td>\n",
       "    </tr>\n",
       "    <tr>\n",
       "      <th>std</th>\n",
       "      <td>0.014975</td>\n",
       "      <td>0.014858</td>\n",
       "      <td>0.483264</td>\n",
       "      <td>0.469181</td>\n",
       "      <td>0.457724</td>\n",
       "      <td>4.368365</td>\n",
       "      <td>0.440471</td>\n",
       "      <td>6.426447e+04</td>\n",
       "      <td>0.964033</td>\n",
       "      <td>5.308094</td>\n",
       "      <td>...</td>\n",
       "      <td>6676.410888</td>\n",
       "      <td>2081.692980</td>\n",
       "      <td>3.609399</td>\n",
       "      <td>413.136043</td>\n",
       "      <td>62.478569</td>\n",
       "      <td>4864.966593</td>\n",
       "      <td>0.022718</td>\n",
       "      <td>2.932581</td>\n",
       "      <td>0.729346</td>\n",
       "      <td>0.226581</td>\n",
       "    </tr>\n",
       "    <tr>\n",
       "      <th>min</th>\n",
       "      <td>0.000000</td>\n",
       "      <td>0.000000</td>\n",
       "      <td>0.000000</td>\n",
       "      <td>0.000000</td>\n",
       "      <td>0.000000</td>\n",
       "      <td>5.320000</td>\n",
       "      <td>0.000000</td>\n",
       "      <td>0.000000e+00</td>\n",
       "      <td>0.000000</td>\n",
       "      <td>0.000000</td>\n",
       "      <td>...</td>\n",
       "      <td>0.000000</td>\n",
       "      <td>0.000000</td>\n",
       "      <td>0.000000</td>\n",
       "      <td>0.000000</td>\n",
       "      <td>0.000000</td>\n",
       "      <td>0.000000</td>\n",
       "      <td>0.000000</td>\n",
       "      <td>1.000000</td>\n",
       "      <td>2007.000000</td>\n",
       "      <td>0.000000</td>\n",
       "    </tr>\n",
       "    <tr>\n",
       "      <th>25%</th>\n",
       "      <td>1.000000</td>\n",
       "      <td>0.000000</td>\n",
       "      <td>0.000000</td>\n",
       "      <td>0.000000</td>\n",
       "      <td>0.000000</td>\n",
       "      <td>9.990000</td>\n",
       "      <td>0.000000</td>\n",
       "      <td>4.500000e+04</td>\n",
       "      <td>0.000000</td>\n",
       "      <td>8.000000</td>\n",
       "      <td>...</td>\n",
       "      <td>1239.950000</td>\n",
       "      <td>451.270000</td>\n",
       "      <td>0.000000</td>\n",
       "      <td>0.000000</td>\n",
       "      <td>0.000000</td>\n",
       "      <td>285.420000</td>\n",
       "      <td>0.000000</td>\n",
       "      <td>1.000000</td>\n",
       "      <td>2016.000000</td>\n",
       "      <td>0.000000</td>\n",
       "    </tr>\n",
       "    <tr>\n",
       "      <th>50%</th>\n",
       "      <td>1.000000</td>\n",
       "      <td>0.000000</td>\n",
       "      <td>0.000000</td>\n",
       "      <td>0.000000</td>\n",
       "      <td>0.000000</td>\n",
       "      <td>12.990000</td>\n",
       "      <td>0.000000</td>\n",
       "      <td>6.500000e+04</td>\n",
       "      <td>0.000000</td>\n",
       "      <td>11.000000</td>\n",
       "      <td>...</td>\n",
       "      <td>3286.890000</td>\n",
       "      <td>1076.910000</td>\n",
       "      <td>0.000000</td>\n",
       "      <td>0.000000</td>\n",
       "      <td>0.000000</td>\n",
       "      <td>468.820000</td>\n",
       "      <td>0.000000</td>\n",
       "      <td>1.000000</td>\n",
       "      <td>2016.000000</td>\n",
       "      <td>0.000000</td>\n",
       "    </tr>\n",
       "    <tr>\n",
       "      <th>75%</th>\n",
       "      <td>1.000000</td>\n",
       "      <td>0.000000</td>\n",
       "      <td>1.000000</td>\n",
       "      <td>1.000000</td>\n",
       "      <td>1.000000</td>\n",
       "      <td>15.990000</td>\n",
       "      <td>1.000000</td>\n",
       "      <td>9.000000e+04</td>\n",
       "      <td>1.000000</td>\n",
       "      <td>14.000000</td>\n",
       "      <td>...</td>\n",
       "      <td>8000.000000</td>\n",
       "      <td>2233.980000</td>\n",
       "      <td>0.000000</td>\n",
       "      <td>0.000000</td>\n",
       "      <td>0.000000</td>\n",
       "      <td>849.160000</td>\n",
       "      <td>0.000000</td>\n",
       "      <td>1.000000</td>\n",
       "      <td>2016.000000</td>\n",
       "      <td>0.000000</td>\n",
       "    </tr>\n",
       "    <tr>\n",
       "      <th>max</th>\n",
       "      <td>1.000000</td>\n",
       "      <td>1.000000</td>\n",
       "      <td>1.000000</td>\n",
       "      <td>1.000000</td>\n",
       "      <td>1.000000</td>\n",
       "      <td>28.990000</td>\n",
       "      <td>1.000000</td>\n",
       "      <td>9.500000e+06</td>\n",
       "      <td>8.000000</td>\n",
       "      <td>90.000000</td>\n",
       "      <td>...</td>\n",
       "      <td>35000.030000</td>\n",
       "      <td>24205.620000</td>\n",
       "      <td>358.680000</td>\n",
       "      <td>33520.270000</td>\n",
       "      <td>7002.190000</td>\n",
       "      <td>36475.590000</td>\n",
       "      <td>1.000000</td>\n",
       "      <td>12.000000</td>\n",
       "      <td>2016.000000</td>\n",
       "      <td>1.000000</td>\n",
       "    </tr>\n",
       "  </tbody>\n",
       "</table>\n",
       "<p>8 rows × 28 columns</p>\n",
       "</div>"
      ],
      "text/plain": [
       "                   1              2  Source Verified       Verified  \\\n",
       "count  855969.000000  855969.000000    855969.000000  855969.000000   \n",
       "mean        0.999776       0.000221         0.371717       0.327172   \n",
       "std         0.014975       0.014858         0.483264       0.469181   \n",
       "min         0.000000       0.000000         0.000000       0.000000   \n",
       "25%         1.000000       0.000000         0.000000       0.000000   \n",
       "50%         1.000000       0.000000         0.000000       0.000000   \n",
       "75%         1.000000       0.000000         1.000000       1.000000   \n",
       "max         1.000000       1.000000         1.000000       1.000000   \n",
       "\n",
       "                term       int_rate          grade    annual_inc  \\\n",
       "count  855969.000000  855969.000000  855969.000000  8.559690e+05   \n",
       "mean        0.298782      13.192320       0.263387  7.507119e+04   \n",
       "std         0.457724       4.368365       0.440471  6.426447e+04   \n",
       "min         0.000000       5.320000       0.000000  0.000000e+00   \n",
       "25%         0.000000       9.990000       0.000000  4.500000e+04   \n",
       "50%         0.000000      12.990000       0.000000  6.500000e+04   \n",
       "75%         1.000000      15.990000       1.000000  9.000000e+04   \n",
       "max         1.000000      28.990000       1.000000  9.500000e+06   \n",
       "\n",
       "       inq_last_6mths       open_acc  ...  total_rec_prncp  total_rec_int  \\\n",
       "count   855969.000000  855969.000000  ...    855969.000000  855969.000000   \n",
       "mean         0.680915      11.542447  ...      5850.841088    1755.046221   \n",
       "std          0.964033       5.308094  ...      6676.410888    2081.692980   \n",
       "min          0.000000       0.000000  ...         0.000000       0.000000   \n",
       "25%          0.000000       8.000000  ...      1239.950000     451.270000   \n",
       "50%          0.000000      11.000000  ...      3286.890000    1076.910000   \n",
       "75%          1.000000      14.000000  ...      8000.000000    2233.980000   \n",
       "max          8.000000      90.000000  ...     35000.030000   24205.620000   \n",
       "\n",
       "       total_rec_late_fee     recoveries  collection_recovery_fee  \\\n",
       "count       855969.000000  855969.000000            855969.000000   \n",
       "mean             0.319530      47.089499                 4.951227   \n",
       "std              3.609399     413.136043                62.478569   \n",
       "min              0.000000       0.000000                 0.000000   \n",
       "25%              0.000000       0.000000                 0.000000   \n",
       "50%              0.000000       0.000000                 0.000000   \n",
       "75%              0.000000       0.000000                 0.000000   \n",
       "max            358.680000   33520.270000              7002.190000   \n",
       "\n",
       "       last_pymnt_amnt  application_type          Month           Year  \\\n",
       "count    855969.000000     855969.000000  855969.000000  855969.000000   \n",
       "mean       2225.985295          0.000516       2.191089    2015.719162   \n",
       "std        4864.966593          0.022718       2.932581       0.729346   \n",
       "min           0.000000          0.000000       1.000000    2007.000000   \n",
       "25%         285.420000          0.000000       1.000000    2016.000000   \n",
       "50%         468.820000          0.000000       1.000000    2016.000000   \n",
       "75%         849.160000          0.000000       1.000000    2016.000000   \n",
       "max       36475.590000          1.000000      12.000000    2016.000000   \n",
       "\n",
       "         default_ind  \n",
       "count  855969.000000  \n",
       "mean        0.054286  \n",
       "std         0.226581  \n",
       "min         0.000000  \n",
       "25%         0.000000  \n",
       "50%         0.000000  \n",
       "75%         0.000000  \n",
       "max         1.000000  \n",
       "\n",
       "[8 rows x 28 columns]"
      ]
     },
     "execution_count": 71,
     "metadata": {},
     "output_type": "execute_result"
    }
   ],
   "source": [
    "dataset.describe()"
   ]
  },
  {
   "cell_type": "code",
   "execution_count": 72,
   "metadata": {},
   "outputs": [
    {
     "data": {
      "text/plain": [
       "<matplotlib.axes._subplots.AxesSubplot at 0x26ba0f3ac50>"
      ]
     },
     "execution_count": 72,
     "metadata": {},
     "output_type": "execute_result"
    },
    {
     "data": {
      "image/png": "[encoded data removed]",
      "text/plain": [
       "<Figure size 432x288 with 1 Axes>"
      ]
     },
     "metadata": {
      "needs_background": "light"
     },
     "output_type": "display_data"
    }
   ],
   "source": [
    "sns.boxplot('grade' , 'int_rate', data = dataset)"
   ]
  },
  {
   "cell_type": "code",
   "execution_count": 73,
   "metadata": {},
   "outputs": [
    {
     "data": {
      "text/plain": [
       "<matplotlib.axes._subplots.AxesSubplot at 0x26c21aeda58>"
      ]
     },
     "execution_count": 73,
     "metadata": {},
     "output_type": "execute_result"
    },
    {
     "data": {
      "image/png": "[encoded data removed]",
      "text/plain": [
       "<Figure size 432x288 with 1 Axes>"
      ]
     },
     "metadata": {
      "needs_background": "light"
     },
     "output_type": "display_data"
    }
   ],
   "source": [
    "sns.violinplot('default_ind','int_rate',data=dataset,bw='scott',inner='quartile')"
   ]
  },
  {
   "cell_type": "code",
   "execution_count": 74,
   "metadata": {},
   "outputs": [
    {
     "data": {
      "text/plain": [
       "<matplotlib.axes._subplots.AxesSubplot at 0x26c1a82dd68>"
      ]
     },
     "execution_count": 74,
     "metadata": {},
     "output_type": "execute_result"
    },
    {
     "data": {
      "image/png": "[encoded data removed]",
      "text/plain": [
       "<Figure size 432x288 with 1 Axes>"
      ]
     },
     "metadata": {
      "needs_background": "light"
     },
     "output_type": "display_data"
    }
   ],
   "source": [
    "sns.stripplot('default_ind','annual_inc',data=dataset,jitter=True)"
   ]
  },
  {
   "cell_type": "code",
   "execution_count": 75,
   "metadata": {},
   "outputs": [
    {
     "data": {
      "text/plain": [
       "<matplotlib.axes._subplots.AxesSubplot at 0x26ba0f91dd8>"
      ]
     },
     "execution_count": 75,
     "metadata": {},
     "output_type": "execute_result"
    },
    {
     "data": {
      "image/png": "[encoded data removed]",
      "text/plain": [
       "<Figure size 432x288 with 1 Axes>"
      ]
     },
     "metadata": {
      "needs_background": "light"
     },
     "output_type": "display_data"
    }
   ],
   "source": [
    "sns.boxplot('default_ind','inq_last_6mths',data=dataset)"
   ]
  },
  {
   "cell_type": "code",
   "execution_count": 76,
   "metadata": {},
   "outputs": [
    {
     "data": {
      "text/plain": [
       "<matplotlib.axes._subplots.AxesSubplot at 0x26ba101d4a8>"
      ]
     },
     "execution_count": 76,
     "metadata": {},
     "output_type": "execute_result"
    },
    {
     "data": {
      "image/png": "[encoded data removed]",
      "text/plain": [
       "<Figure size 432x288 with 1 Axes>"
      ]
     },
     "metadata": {
      "needs_background": "light"
     },
     "output_type": "display_data"
    }
   ],
   "source": [
    "sns.boxplot('default_ind','out_prncp',data=dataset)"
   ]
  },
  {
   "cell_type": "code",
   "execution_count": 77,
   "metadata": {},
   "outputs": [
    {
     "data": {
      "text/plain": [
       "<matplotlib.axes._subplots.AxesSubplot at 0x26ba3751518>"
      ]
     },
     "execution_count": 77,
     "metadata": {},
     "output_type": "execute_result"
    },
    {
     "data": {
      "image/png": "[encoded data removed]",
      "text/plain": [
       "<Figure size 432x288 with 1 Axes>"
      ]
     },
     "metadata": {
      "needs_background": "light"
     },
     "output_type": "display_data"
    }
   ],
   "source": [
    "sns.boxplot('default_ind','total_pymnt',data=dataset)"
   ]
  },
  {
   "cell_type": "code",
   "execution_count": 78,
   "metadata": {},
   "outputs": [
    {
     "data": {
      "text/plain": [
       "<matplotlib.axes._subplots.AxesSubplot at 0x26ba37d47b8>"
      ]
     },
     "execution_count": 78,
     "metadata": {},
     "output_type": "execute_result"
    },
    {
     "data": {
      "image/png": "[encoded data removed]",
      "text/plain": [
       "<Figure size 432x288 with 1 Axes>"
      ]
     },
     "metadata": {
      "needs_background": "light"
     },
     "output_type": "display_data"
    }
   ],
   "source": [
    "sns.stripplot('default_ind','total_rec_prncp',data=dataset,jitter=True)"
   ]
  },
  {
   "cell_type": "code",
   "execution_count": 79,
   "metadata": {},
   "outputs": [
    {
     "data": {
      "text/plain": [
       "<matplotlib.axes._subplots.AxesSubplot at 0x26ba3831898>"
      ]
     },
     "execution_count": 79,
     "metadata": {},
     "output_type": "execute_result"
    },
    {
     "data": {
      "image/png": "[encoded data removed]",
      "text/plain": [
       "<Figure size 432x288 with 1 Axes>"
      ]
     },
     "metadata": {
      "needs_background": "light"
     },
     "output_type": "display_data"
    }
   ],
   "source": [
    "sns.violinplot('default_ind','total_rec_int',data=dataset,inner='quartile')"
   ]
  },
  {
   "cell_type": "code",
   "execution_count": 80,
   "metadata": {},
   "outputs": [
    {
     "data": {
      "text/plain": [
       "<matplotlib.axes._subplots.AxesSubplot at 0x26ba3888390>"
      ]
     },
     "execution_count": 80,
     "metadata": {},
     "output_type": "execute_result"
    },
    {
     "data": {
      "image/png": "[encoded data removed]",
      "text/plain": [
       "<Figure size 432x288 with 1 Axes>"
      ]
     },
     "metadata": {
      "needs_background": "light"
     },
     "output_type": "display_data"
    }
   ],
   "source": [
    "sns.boxplot('default_ind','recoveries',data=dataset)"
   ]
  },
  {
   "cell_type": "code",
   "execution_count": 81,
   "metadata": {},
   "outputs": [
    {
     "data": {
      "text/plain": [
       "<matplotlib.axes._subplots.AxesSubplot at 0x26ba39127b8>"
      ]
     },
     "execution_count": 81,
     "metadata": {},
     "output_type": "execute_result"
    },
    {
     "data": {
      "image/png": "[encoded data removed]",
      "text/plain": [
       "<Figure size 432x288 with 1 Axes>"
      ]
     },
     "metadata": {
      "needs_background": "light"
     },
     "output_type": "display_data"
    }
   ],
   "source": [
    "sns.stripplot('default_ind','recoveries',data=dataset,jitter=True)"
   ]
  },
  {
   "cell_type": "code",
   "execution_count": 82,
   "metadata": {},
   "outputs": [
    {
     "data": {
      "text/plain": [
       "<matplotlib.axes._subplots.AxesSubplot at 0x26ba396fe10>"
      ]
     },
     "execution_count": 82,
     "metadata": {},
     "output_type": "execute_result"
    },
    {
     "data": {
      "image/png": "[encoded data removed]",
      "text/plain": [
       "<Figure size 432x288 with 1 Axes>"
      ]
     },
     "metadata": {
      "needs_background": "light"
     },
     "output_type": "display_data"
    }
   ],
   "source": [
    "sns.stripplot('default_ind','collection_recovery_fee',data=dataset,jitter=True)"
   ]
  },
  {
   "cell_type": "code",
   "execution_count": 83,
   "metadata": {},
   "outputs": [
    {
     "data": {
      "text/plain": [
       "<matplotlib.axes._subplots.AxesSubplot at 0x26ba3ce9710>"
      ]
     },
     "execution_count": 83,
     "metadata": {},
     "output_type": "execute_result"
    },
    {
     "data": {
      "image/png": "[encoded data removed]",
      "text/plain": [
       "<Figure size 432x288 with 1 Axes>"
      ]
     },
     "metadata": {
      "needs_background": "light"
     },
     "output_type": "display_data"
    }
   ],
   "source": [
    "sns.stripplot('default_ind','last_pymnt_amnt',data=dataset,jitter=True)"
   ]
  },
  {
   "cell_type": "code",
   "execution_count": 84,
   "metadata": {},
   "outputs": [
    {
     "name": "stdout",
     "output_type": "stream",
     "text": [
      "<class 'pandas.core.frame.DataFrame'>\n",
      "RangeIndex: 855969 entries, 0 to 855968\n",
      "Data columns (total 29 columns):\n",
      "1                          855969 non-null uint8\n",
      "2                          855969 non-null uint8\n",
      "Source Verified            855969 non-null uint8\n",
      "Verified                   855969 non-null uint8\n",
      "term                       855969 non-null float64\n",
      "int_rate                   855969 non-null float64\n",
      "grade                      855969 non-null float64\n",
      "annual_inc                 855969 non-null float64\n",
      "issue_d                    855969 non-null datetime64[ns]\n",
      "inq_last_6mths             855969 non-null float64\n",
      "open_acc                   855969 non-null float64\n",
      "revol_bal                  855969 non-null float64\n",
      "revol_util                 855969 non-null float64\n",
      "total_acc                  855969 non-null float64\n",
      "initial_list_status        855969 non-null float64\n",
      "out_prncp                  855969 non-null float64\n",
      "out_prncp_inv              855969 non-null float64\n",
      "total_pymnt                855969 non-null float64\n",
      "total_pymnt_inv            855969 non-null float64\n",
      "total_rec_prncp            855969 non-null float64\n",
      "total_rec_int              855969 non-null float64\n",
      "total_rec_late_fee         855969 non-null float64\n",
      "recoveries                 855969 non-null float64\n",
      "collection_recovery_fee    855969 non-null float64\n",
      "last_pymnt_amnt            855969 non-null float64\n",
      "application_type           855969 non-null float64\n",
      "Month                      855969 non-null float64\n",
      "Year                       855969 non-null float64\n",
      "default_ind                855969 non-null int64\n",
      "dtypes: datetime64[ns](1), float64(23), int64(1), uint8(4)\n",
      "memory usage: 166.5 MB\n"
     ]
    }
   ],
   "source": [
    "dataset.info()"
   ]
  },
  {
   "cell_type": "code",
   "execution_count": 85,
   "metadata": {},
   "outputs": [],
   "source": [
    "train = dataset[dataset['issue_d'] < '2015-6-01']\n",
    "test = dataset[dataset['issue_d']>= '2015-6-01']"
   ]
  },
  {
   "cell_type": "code",
   "execution_count": 86,
   "metadata": {},
   "outputs": [],
   "source": [
    "del dataset['issue_d']"
   ]
  },
  {
   "cell_type": "code",
   "execution_count": 87,
   "metadata": {},
   "outputs": [],
   "source": [
    "X = dataset.iloc[:,:-1].values\n",
    "y = dataset.iloc[:,-1].values"
   ]
  },
  {
   "cell_type": "code",
   "execution_count": 88,
   "metadata": {},
   "outputs": [],
   "source": [
    "X_train, X_test, y_train, y_test = train_test_split(X, y, test_size = 0.20,random_state = 46)"
   ]
  },
  {
   "cell_type": "code",
   "execution_count": 89,
   "metadata": {},
   "outputs": [
    {
     "name": "stderr",
     "output_type": "stream",
     "text": [
      "C:\\Users\\user\\Anaconda3\\lib\\site-packages\\sklearn\\linear_model\\logistic.py:432: FutureWarning: Default solver will be changed to 'lbfgs' in 0.22. Specify a solver to silence this warning.\n",
      "  FutureWarning)\n"
     ]
    },
    {
     "data": {
      "text/plain": [
       "LogisticRegression(C=1.0, class_weight=None, dual=False, fit_intercept=True,\n",
       "                   intercept_scaling=1, l1_ratio=None, max_iter=100,\n",
       "                   multi_class='warn', n_jobs=None, penalty='l2',\n",
       "                   random_state=None, solver='warn', tol=0.0001, verbose=0,\n",
       "                   warm_start=False)"
      ]
     },
     "execution_count": 89,
     "metadata": {},
     "output_type": "execute_result"
    }
   ],
   "source": [
    "model = LogisticRegression()\n",
    "model.fit(X_train,y_train)"
   ]
  },
  {
   "cell_type": "code",
   "execution_count": 91,
   "metadata": {},
   "outputs": [
    {
     "name": "stdout",
     "output_type": "stream",
     "text": [
      "Logistic testing accuracy is 0.98\n"
     ]
    }
   ],
   "source": [
    "from sklearn.metrics import accuracy_score\n",
    "print (\"Logistic testing accuracy is %2.2f\" % accuracy_score(y_test,model.predict(X_test))"
   ]
  },
  {
   "cell_type": "code",
   "execution_count": 92,
   "metadata": {},
   "outputs": [
    {
     "name": "stdout",
     "output_type": "stream",
     "text": [
      "[[161706    155]\n",
      " [  2464   6869]]\n"
     ]
    }
   ],
   "source": [
    "print(confusion_matrix(y_test,model.predict(X_test)))"
   ]
  },
  {
   "cell_type": "code",
   "execution_count": 93,
   "metadata": {},
   "outputs": [
    {
     "name": "stdout",
     "output_type": "stream",
     "text": [
      "              precision    recall  f1-score   support\n",
      "\n",
      "           0       0.98      1.00      0.99    161861\n",
      "           1       0.98      0.74      0.84      9333\n",
      "\n",
      "    accuracy                           0.98    171194\n",
      "   macro avg       0.98      0.87      0.92    171194\n",
      "weighted avg       0.98      0.98      0.98    171194\n",
      "\n"
     ]
    }
   ],
   "source": [
    "print(classification_report(y_test,model.predict(X_test)))"
   ]
  },
  {
   "cell_type": "code",
   "execution_count": 94,
   "metadata": {},
   "outputs": [],
   "source": [
    "classifier2 = RandomForestClassifier(n_estimators = 10, criterion = 'entropy', random_state=666)"
   ]
  },
  {
   "cell_type": "code",
   "execution_count": 95,
   "metadata": {},
   "outputs": [
    {
     "data": {
      "text/plain": [
       "RandomForestClassifier(bootstrap=True, class_weight=None, criterion='entropy',\n",
       "                       max_depth=None, max_features='auto', max_leaf_nodes=None,\n",
       "                       min_impurity_decrease=0.0, min_impurity_split=None,\n",
       "                       min_samples_leaf=1, min_samples_split=2,\n",
       "                       min_weight_fraction_leaf=0.0, n_estimators=10,\n",
       "                       n_jobs=None, oob_score=False, random_state=666,\n",
       "                       verbose=0, warm_start=False)"
      ]
     },
     "execution_count": 95,
     "metadata": {},
     "output_type": "execute_result"
    }
   ],
   "source": [
    "classifier2.fit(X_train, y_train)"
   ]
  },
  {
   "cell_type": "code",
   "execution_count": 96,
   "metadata": {},
   "outputs": [],
   "source": [
    "y_pred = classifier2.predict(X_test)"
   ]
  },
  {
   "cell_type": "code",
   "execution_count": 98,
   "metadata": {},
   "outputs": [
    {
     "name": "stdout",
     "output_type": "stream",
     "text": [
      "              precision    recall  f1-score   support\n",
      "\n",
      "           0       1.00      1.00      1.00    161861\n",
      "           1       1.00      0.94      0.97      9333\n",
      "\n",
      "    accuracy                           1.00    171194\n",
      "   macro avg       1.00      0.97      0.98    171194\n",
      "weighted avg       1.00      1.00      1.00    171194\n",
      "\n"
     ]
    }
   ],
   "source": [
    "print(classification_report(y_test,y_pred))"
   ]
  },
  {
   "cell_type": "code",
   "execution_count": 1,
   "metadata": {},
   "outputs": [
    {
     "ename": "NameError",
     "evalue": "name 'classifier2' is not defined",
     "output_type": "error",
     "traceback": [
      "\u001b[1;31m---------------------------------------------------------------------------\u001b[0m",
      "\u001b[1;31mNameError\u001b[0m                                 Traceback (most recent call last)",
      "\u001b[1;32m<ipython-input-1-bcafc9641984>\u001b[0m in \u001b[0;36m<module>\u001b[1;34m\u001b[0m\n\u001b[0;32m      1\u001b[0m \u001b[1;32mfrom\u001b[0m \u001b[0msklearn\u001b[0m\u001b[1;33m.\u001b[0m\u001b[0mmodel_selection\u001b[0m \u001b[1;32mimport\u001b[0m \u001b[0mcross_val_score\u001b[0m\u001b[1;33m\u001b[0m\u001b[1;33m\u001b[0m\u001b[0m\n\u001b[1;32m----> 2\u001b[1;33m \u001b[0maccuracies\u001b[0m \u001b[1;33m=\u001b[0m \u001b[0mcross_val_score\u001b[0m\u001b[1;33m(\u001b[0m\u001b[0mestimator\u001b[0m \u001b[1;33m=\u001b[0m \u001b[0mclassifier2\u001b[0m\u001b[1;33m,\u001b[0m \u001b[0mX\u001b[0m \u001b[1;33m=\u001b[0m \u001b[0mX_train\u001b[0m\u001b[1;33m,\u001b[0m \u001b[0my\u001b[0m \u001b[1;33m=\u001b[0m \u001b[0my_train\u001b[0m\u001b[1;33m,\u001b[0m \u001b[0mcv\u001b[0m\u001b[1;33m=\u001b[0m\u001b[1;36m10\u001b[0m\u001b[1;33m)\u001b[0m\u001b[1;33m\u001b[0m\u001b[1;33m\u001b[0m\u001b[0m\n\u001b[0m",
      "\u001b[1;31mNameError\u001b[0m: name 'classifier2' is not defined"
     ]
    }
   ],
   "source": [
    "from sklearn.model_selection import cross_val_score\n",
    "accuracies = cross_val_score(estimator = classifier2, X = X_train, y = y_train, cv=10)"
   ]
  },
  {
   "cell_type": "code",
   "execution_count": 107,
   "metadata": {},
   "outputs": [
    {
     "data": {
      "text/plain": [
       "0.9966456126800134"
      ]
     },
     "execution_count": 107,
     "metadata": {},
     "output_type": "execute_result"
    }
   ],
   "source": [
    "accuracies.mean()"
   ]
  },
  {
   "cell_type": "code",
   "execution_count": 108,
   "metadata": {},
   "outputs": [
    {
     "name": "stdout",
     "output_type": "stream",
     "text": [
      "(684775, 27) (171194, 27) (684775,) (171194,)\n"
     ]
    }
   ],
   "source": [
    "print(X_train.shape, X_test.shape, y_train.shape, y_test.shape)"
   ]
  },
  {
   "cell_type": "code",
   "execution_count": 109,
   "metadata": {},
   "outputs": [
    {
     "data": {
      "text/plain": [
       "XGBClassifier(base_score=0.5, booster='gbtree', colsample_bylevel=1,\n",
       "              colsample_bynode=1, colsample_bytree=1, gamma=0,\n",
       "              learning_rate=0.1, max_delta_step=0, max_depth=3,\n",
       "              min_child_weight=1, missing=None, n_estimators=100, n_jobs=1,\n",
       "              nthread=None, objective='binary:logistic', random_state=0,\n",
       "              reg_alpha=0, reg_lambda=1, scale_pos_weight=1, seed=None,\n",
       "              silent=None, subsample=1, verbosity=1)"
      ]
     },
     "execution_count": 109,
     "metadata": {},
     "output_type": "execute_result"
    }
   ],
   "source": [
    "modelxgb = XGBClassifier()\n",
    "modelxgb.fit(X_train, y_train)"
   ]
  },
  {
   "cell_type": "code",
   "execution_count": 110,
   "metadata": {},
   "outputs": [],
   "source": [
    "y_predboost = modelxgb.predict(X_test)"
   ]
  },
  {
   "cell_type": "code",
   "execution_count": 111,
   "metadata": {},
   "outputs": [
    {
     "name": "stdout",
     "output_type": "stream",
     "text": [
      "              precision    recall  f1-score   support\n",
      "\n",
      "           0       0.99      1.00      1.00    161861\n",
      "           1       0.99      0.91      0.95      9333\n",
      "\n",
      "    accuracy                           0.99    171194\n",
      "   macro avg       0.99      0.96      0.97    171194\n",
      "weighted avg       0.99      0.99      0.99    171194\n",
      "\n"
     ]
    }
   ],
   "source": [
    "print(classification_report(y_test,y_predboost))"
   ]
  },
  {
   "cell_type": "code",
   "execution_count": null,
   "metadata": {},
   "outputs": [],
   "source": []
  },
  {
   "cell_type": "code",
   "execution_count": null,
   "metadata": {},
   "outputs": [],
   "source": []
  },
  {
   "cell_type": "code",
   "execution_count": null,
   "metadata": {},
   "outputs": [],
   "source": []
  },
  {
   "cell_type": "code",
   "execution_count": null,
   "metadata": {},
   "outputs": [],
   "source": []
  },
  {
   "cell_type": "code",
   "execution_count": null,
   "metadata": {},
   "outputs": [],
   "source": []
  },
  {
   "cell_type": "code",
   "execution_count": null,
   "metadata": {},
   "outputs": [],
   "source": []
  },
  {
   "cell_type": "code",
   "execution_count": null,
   "metadata": {},
   "outputs": [],
   "source": []
  },
  {
   "cell_type": "code",
   "execution_count": null,
   "metadata": {},
   "outputs": [],
   "source": []
  },
  {
   "cell_type": "code",
   "execution_count": null,
   "metadata": {},
   "outputs": [],
   "source": []
  }
 ],
 "metadata": {
  "kernelspec": {
   "display_name": "Python 3",
   "language": "python",
   "name": "python3"
  },
  "language_info": {
   "codemirror_mode": {
    "name": "ipython",
    "version": 3
   },
   "file_extension": ".py",
   "mimetype": "text/x-python",
   "name": "python",
   "nbconvert_exporter": "python",
   "pygments_lexer": "ipython3",
   "version": "3.7.3"
  }
 },
 "nbformat": 4,
 "nbformat_minor": 2
}
